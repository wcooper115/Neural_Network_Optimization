{
  "nbformat": 4,
  "nbformat_minor": 0,
  "metadata": {
    "colab": {
      "provenance": []
    },
    "kernelspec": {
      "name": "python3",
      "display_name": "Python 3"
    },
    "language_info": {
      "name": "python"
    }
  },
  "cells": [
    {
      "cell_type": "markdown",
      "source": [
        "# **Lab Assignment Seven: Sequential Network Architectures**\n",
        "\n",
        "### By William Cooper (undergraduate) and Grant Palmer (Undergraduate)"
      ],
      "metadata": {
        "id": "9eGFV4Bct79u"
      }
    },
    {
      "cell_type": "markdown",
      "source": [
        "### Data Set: SMS Spam Collection Dataset\n",
        "Link: https://www.kaggle.com/datasets/uciml/sms-spam-collection-dataset"
      ],
      "metadata": {
        "id": "PAU8l1KIvBt6"
      }
    },
    {
      "cell_type": "markdown",
      "source": [
        "# Preparation"
      ],
      "metadata": {
        "id": "-M391sG3uIlE"
      }
    },
    {
      "cell_type": "markdown",
      "source": [
        "*Define and prepare your class variables. Use proper variable representations (int, float, one-hot, etc.). Use pre-processing methods (as needed). Describe the final dataset that is used for classification/regression (include a description of any newly formed variables you created). Discuss methods of tokenization in your dataset as well as any decisions to force a specific length of sequence.*"
      ],
      "metadata": {
        "id": "f4wnAaXquWuU"
      }
    },
    {
      "cell_type": "markdown",
      "source": [
        "The SMS Spam Collection Dataset contains the following Columns:\n",
        "1.   v1: This column is used to denote whether the SMS message is spam or ham, which basically means the message is spam or is not spam.\n",
        "2.   v2: This column is used to store the SMS message itself in the form of text.\n",
        "\n"
      ],
      "metadata": {
        "id": "f5PMhdfwz562"
      }
    },
    {
      "cell_type": "code",
      "source": [
        "#loading the dataset\n",
        "from google.colab import drive\n",
        "drive.mount('/content/drive')"
      ],
      "metadata": {
        "colab": {
          "base_uri": "https://localhost:8080/"
        },
        "id": "atdEuFbE0gQd",
        "outputId": "81a1d41d-931e-4f95-c66f-1bce84bad3ef"
      },
      "execution_count": null,
      "outputs": [
        {
          "output_type": "stream",
          "name": "stdout",
          "text": [
            "Mounted at /content/drive\n"
          ]
        }
      ]
    },
    {
      "cell_type": "code",
      "source": [
        "import pandas as pd\n",
        "import numpy as np\n",
        "\n",
        "file_path = '/content/drive/MyDrive/Colab Notebooks/spam.csv'\n",
        "\n",
        "df = pd.read_csv(file_path, encoding = 'latin1')\n",
        "\n",
        "df.info()\n",
        "df.head(10)"
      ],
      "metadata": {
        "colab": {
          "base_uri": "https://localhost:8080/",
          "height": 577
        },
        "id": "EqI459cu0wu8",
        "outputId": "52125d82-f512-43b5-b61f-6f5c43a5191e"
      },
      "execution_count": null,
      "outputs": [
        {
          "output_type": "stream",
          "name": "stdout",
          "text": [
            "<class 'pandas.core.frame.DataFrame'>\n",
            "RangeIndex: 5572 entries, 0 to 5571\n",
            "Data columns (total 5 columns):\n",
            " #   Column      Non-Null Count  Dtype \n",
            "---  ------      --------------  ----- \n",
            " 0   v1          5572 non-null   object\n",
            " 1   v2          5572 non-null   object\n",
            " 2   Unnamed: 2  50 non-null     object\n",
            " 3   Unnamed: 3  12 non-null     object\n",
            " 4   Unnamed: 4  6 non-null      object\n",
            "dtypes: object(5)\n",
            "memory usage: 217.8+ KB\n"
          ]
        },
        {
          "output_type": "execute_result",
          "data": {
            "text/plain": [
              "     v1                                                 v2 Unnamed: 2  \\\n",
              "0   ham  Go until jurong point, crazy.. Available only ...        NaN   \n",
              "1   ham                      Ok lar... Joking wif u oni...        NaN   \n",
              "2  spam  Free entry in 2 a wkly comp to win FA Cup fina...        NaN   \n",
              "3   ham  U dun say so early hor... U c already then say...        NaN   \n",
              "4   ham  Nah I don't think he goes to usf, he lives aro...        NaN   \n",
              "5  spam  FreeMsg Hey there darling it's been 3 week's n...        NaN   \n",
              "6   ham  Even my brother is not like to speak with me. ...        NaN   \n",
              "7   ham  As per your request 'Melle Melle (Oru Minnamin...        NaN   \n",
              "8  spam  WINNER!! As a valued network customer you have...        NaN   \n",
              "9  spam  Had your mobile 11 months or more? U R entitle...        NaN   \n",
              "\n",
              "  Unnamed: 3 Unnamed: 4  \n",
              "0        NaN        NaN  \n",
              "1        NaN        NaN  \n",
              "2        NaN        NaN  \n",
              "3        NaN        NaN  \n",
              "4        NaN        NaN  \n",
              "5        NaN        NaN  \n",
              "6        NaN        NaN  \n",
              "7        NaN        NaN  \n",
              "8        NaN        NaN  \n",
              "9        NaN        NaN  "
            ],
            "text/html": [
              "\n",
              "  <div id=\"df-1426efc6-d72b-46c5-99ee-ba490c640d17\" class=\"colab-df-container\">\n",
              "    <div>\n",
              "<style scoped>\n",
              "    .dataframe tbody tr th:only-of-type {\n",
              "        vertical-align: middle;\n",
              "    }\n",
              "\n",
              "    .dataframe tbody tr th {\n",
              "        vertical-align: top;\n",
              "    }\n",
              "\n",
              "    .dataframe thead th {\n",
              "        text-align: right;\n",
              "    }\n",
              "</style>\n",
              "<table border=\"1\" class=\"dataframe\">\n",
              "  <thead>\n",
              "    <tr style=\"text-align: right;\">\n",
              "      <th></th>\n",
              "      <th>v1</th>\n",
              "      <th>v2</th>\n",
              "      <th>Unnamed: 2</th>\n",
              "      <th>Unnamed: 3</th>\n",
              "      <th>Unnamed: 4</th>\n",
              "    </tr>\n",
              "  </thead>\n",
              "  <tbody>\n",
              "    <tr>\n",
              "      <th>0</th>\n",
              "      <td>ham</td>\n",
              "      <td>Go until jurong point, crazy.. Available only ...</td>\n",
              "      <td>NaN</td>\n",
              "      <td>NaN</td>\n",
              "      <td>NaN</td>\n",
              "    </tr>\n",
              "    <tr>\n",
              "      <th>1</th>\n",
              "      <td>ham</td>\n",
              "      <td>Ok lar... Joking wif u oni...</td>\n",
              "      <td>NaN</td>\n",
              "      <td>NaN</td>\n",
              "      <td>NaN</td>\n",
              "    </tr>\n",
              "    <tr>\n",
              "      <th>2</th>\n",
              "      <td>spam</td>\n",
              "      <td>Free entry in 2 a wkly comp to win FA Cup fina...</td>\n",
              "      <td>NaN</td>\n",
              "      <td>NaN</td>\n",
              "      <td>NaN</td>\n",
              "    </tr>\n",
              "    <tr>\n",
              "      <th>3</th>\n",
              "      <td>ham</td>\n",
              "      <td>U dun say so early hor... U c already then say...</td>\n",
              "      <td>NaN</td>\n",
              "      <td>NaN</td>\n",
              "      <td>NaN</td>\n",
              "    </tr>\n",
              "    <tr>\n",
              "      <th>4</th>\n",
              "      <td>ham</td>\n",
              "      <td>Nah I don't think he goes to usf, he lives aro...</td>\n",
              "      <td>NaN</td>\n",
              "      <td>NaN</td>\n",
              "      <td>NaN</td>\n",
              "    </tr>\n",
              "    <tr>\n",
              "      <th>5</th>\n",
              "      <td>spam</td>\n",
              "      <td>FreeMsg Hey there darling it's been 3 week's n...</td>\n",
              "      <td>NaN</td>\n",
              "      <td>NaN</td>\n",
              "      <td>NaN</td>\n",
              "    </tr>\n",
              "    <tr>\n",
              "      <th>6</th>\n",
              "      <td>ham</td>\n",
              "      <td>Even my brother is not like to speak with me. ...</td>\n",
              "      <td>NaN</td>\n",
              "      <td>NaN</td>\n",
              "      <td>NaN</td>\n",
              "    </tr>\n",
              "    <tr>\n",
              "      <th>7</th>\n",
              "      <td>ham</td>\n",
              "      <td>As per your request 'Melle Melle (Oru Minnamin...</td>\n",
              "      <td>NaN</td>\n",
              "      <td>NaN</td>\n",
              "      <td>NaN</td>\n",
              "    </tr>\n",
              "    <tr>\n",
              "      <th>8</th>\n",
              "      <td>spam</td>\n",
              "      <td>WINNER!! As a valued network customer you have...</td>\n",
              "      <td>NaN</td>\n",
              "      <td>NaN</td>\n",
              "      <td>NaN</td>\n",
              "    </tr>\n",
              "    <tr>\n",
              "      <th>9</th>\n",
              "      <td>spam</td>\n",
              "      <td>Had your mobile 11 months or more? U R entitle...</td>\n",
              "      <td>NaN</td>\n",
              "      <td>NaN</td>\n",
              "      <td>NaN</td>\n",
              "    </tr>\n",
              "  </tbody>\n",
              "</table>\n",
              "</div>\n",
              "    <div class=\"colab-df-buttons\">\n",
              "\n",
              "  <div class=\"colab-df-container\">\n",
              "    <button class=\"colab-df-convert\" onclick=\"convertToInteractive('df-1426efc6-d72b-46c5-99ee-ba490c640d17')\"\n",
              "            title=\"Convert this dataframe to an interactive table.\"\n",
              "            style=\"display:none;\">\n",
              "\n",
              "  <svg xmlns=\"http://www.w3.org/2000/svg\" height=\"24px\" viewBox=\"0 -960 960 960\">\n",
              "    <path d=\"M120-120v-720h720v720H120Zm60-500h600v-160H180v160Zm220 220h160v-160H400v160Zm0 220h160v-160H400v160ZM180-400h160v-160H180v160Zm440 0h160v-160H620v160ZM180-180h160v-160H180v160Zm440 0h160v-160H620v160Z\"/>\n",
              "  </svg>\n",
              "    </button>\n",
              "\n",
              "  <style>\n",
              "    .colab-df-container {\n",
              "      display:flex;\n",
              "      gap: 12px;\n",
              "    }\n",
              "\n",
              "    .colab-df-convert {\n",
              "      background-color: #E8F0FE;\n",
              "      border: none;\n",
              "      border-radius: 50%;\n",
              "      cursor: pointer;\n",
              "      display: none;\n",
              "      fill: #1967D2;\n",
              "      height: 32px;\n",
              "      padding: 0 0 0 0;\n",
              "      width: 32px;\n",
              "    }\n",
              "\n",
              "    .colab-df-convert:hover {\n",
              "      background-color: #E2EBFA;\n",
              "      box-shadow: 0px 1px 2px rgba(60, 64, 67, 0.3), 0px 1px 3px 1px rgba(60, 64, 67, 0.15);\n",
              "      fill: #174EA6;\n",
              "    }\n",
              "\n",
              "    .colab-df-buttons div {\n",
              "      margin-bottom: 4px;\n",
              "    }\n",
              "\n",
              "    [theme=dark] .colab-df-convert {\n",
              "      background-color: #3B4455;\n",
              "      fill: #D2E3FC;\n",
              "    }\n",
              "\n",
              "    [theme=dark] .colab-df-convert:hover {\n",
              "      background-color: #434B5C;\n",
              "      box-shadow: 0px 1px 3px 1px rgba(0, 0, 0, 0.15);\n",
              "      filter: drop-shadow(0px 1px 2px rgba(0, 0, 0, 0.3));\n",
              "      fill: #FFFFFF;\n",
              "    }\n",
              "  </style>\n",
              "\n",
              "    <script>\n",
              "      const buttonEl =\n",
              "        document.querySelector('#df-1426efc6-d72b-46c5-99ee-ba490c640d17 button.colab-df-convert');\n",
              "      buttonEl.style.display =\n",
              "        google.colab.kernel.accessAllowed ? 'block' : 'none';\n",
              "\n",
              "      async function convertToInteractive(key) {\n",
              "        const element = document.querySelector('#df-1426efc6-d72b-46c5-99ee-ba490c640d17');\n",
              "        const dataTable =\n",
              "          await google.colab.kernel.invokeFunction('convertToInteractive',\n",
              "                                                    [key], {});\n",
              "        if (!dataTable) return;\n",
              "\n",
              "        const docLinkHtml = 'Like what you see? Visit the ' +\n",
              "          '<a target=\"_blank\" href=https://colab.research.google.com/notebooks/data_table.ipynb>data table notebook</a>'\n",
              "          + ' to learn more about interactive tables.';\n",
              "        element.innerHTML = '';\n",
              "        dataTable['output_type'] = 'display_data';\n",
              "        await google.colab.output.renderOutput(dataTable, element);\n",
              "        const docLink = document.createElement('div');\n",
              "        docLink.innerHTML = docLinkHtml;\n",
              "        element.appendChild(docLink);\n",
              "      }\n",
              "    </script>\n",
              "  </div>\n",
              "\n",
              "\n",
              "<div id=\"df-3449b38b-7593-4526-a5e9-1b97259bce46\">\n",
              "  <button class=\"colab-df-quickchart\" onclick=\"quickchart('df-3449b38b-7593-4526-a5e9-1b97259bce46')\"\n",
              "            title=\"Suggest charts\"\n",
              "            style=\"display:none;\">\n",
              "\n",
              "<svg xmlns=\"http://www.w3.org/2000/svg\" height=\"24px\"viewBox=\"0 0 24 24\"\n",
              "     width=\"24px\">\n",
              "    <g>\n",
              "        <path d=\"M19 3H5c-1.1 0-2 .9-2 2v14c0 1.1.9 2 2 2h14c1.1 0 2-.9 2-2V5c0-1.1-.9-2-2-2zM9 17H7v-7h2v7zm4 0h-2V7h2v10zm4 0h-2v-4h2v4z\"/>\n",
              "    </g>\n",
              "</svg>\n",
              "  </button>\n",
              "\n",
              "<style>\n",
              "  .colab-df-quickchart {\n",
              "      --bg-color: #E8F0FE;\n",
              "      --fill-color: #1967D2;\n",
              "      --hover-bg-color: #E2EBFA;\n",
              "      --hover-fill-color: #174EA6;\n",
              "      --disabled-fill-color: #AAA;\n",
              "      --disabled-bg-color: #DDD;\n",
              "  }\n",
              "\n",
              "  [theme=dark] .colab-df-quickchart {\n",
              "      --bg-color: #3B4455;\n",
              "      --fill-color: #D2E3FC;\n",
              "      --hover-bg-color: #434B5C;\n",
              "      --hover-fill-color: #FFFFFF;\n",
              "      --disabled-bg-color: #3B4455;\n",
              "      --disabled-fill-color: #666;\n",
              "  }\n",
              "\n",
              "  .colab-df-quickchart {\n",
              "    background-color: var(--bg-color);\n",
              "    border: none;\n",
              "    border-radius: 50%;\n",
              "    cursor: pointer;\n",
              "    display: none;\n",
              "    fill: var(--fill-color);\n",
              "    height: 32px;\n",
              "    padding: 0;\n",
              "    width: 32px;\n",
              "  }\n",
              "\n",
              "  .colab-df-quickchart:hover {\n",
              "    background-color: var(--hover-bg-color);\n",
              "    box-shadow: 0 1px 2px rgba(60, 64, 67, 0.3), 0 1px 3px 1px rgba(60, 64, 67, 0.15);\n",
              "    fill: var(--button-hover-fill-color);\n",
              "  }\n",
              "\n",
              "  .colab-df-quickchart-complete:disabled,\n",
              "  .colab-df-quickchart-complete:disabled:hover {\n",
              "    background-color: var(--disabled-bg-color);\n",
              "    fill: var(--disabled-fill-color);\n",
              "    box-shadow: none;\n",
              "  }\n",
              "\n",
              "  .colab-df-spinner {\n",
              "    border: 2px solid var(--fill-color);\n",
              "    border-color: transparent;\n",
              "    border-bottom-color: var(--fill-color);\n",
              "    animation:\n",
              "      spin 1s steps(1) infinite;\n",
              "  }\n",
              "\n",
              "  @keyframes spin {\n",
              "    0% {\n",
              "      border-color: transparent;\n",
              "      border-bottom-color: var(--fill-color);\n",
              "      border-left-color: var(--fill-color);\n",
              "    }\n",
              "    20% {\n",
              "      border-color: transparent;\n",
              "      border-left-color: var(--fill-color);\n",
              "      border-top-color: var(--fill-color);\n",
              "    }\n",
              "    30% {\n",
              "      border-color: transparent;\n",
              "      border-left-color: var(--fill-color);\n",
              "      border-top-color: var(--fill-color);\n",
              "      border-right-color: var(--fill-color);\n",
              "    }\n",
              "    40% {\n",
              "      border-color: transparent;\n",
              "      border-right-color: var(--fill-color);\n",
              "      border-top-color: var(--fill-color);\n",
              "    }\n",
              "    60% {\n",
              "      border-color: transparent;\n",
              "      border-right-color: var(--fill-color);\n",
              "    }\n",
              "    80% {\n",
              "      border-color: transparent;\n",
              "      border-right-color: var(--fill-color);\n",
              "      border-bottom-color: var(--fill-color);\n",
              "    }\n",
              "    90% {\n",
              "      border-color: transparent;\n",
              "      border-bottom-color: var(--fill-color);\n",
              "    }\n",
              "  }\n",
              "</style>\n",
              "\n",
              "  <script>\n",
              "    async function quickchart(key) {\n",
              "      const quickchartButtonEl =\n",
              "        document.querySelector('#' + key + ' button');\n",
              "      quickchartButtonEl.disabled = true;  // To prevent multiple clicks.\n",
              "      quickchartButtonEl.classList.add('colab-df-spinner');\n",
              "      try {\n",
              "        const charts = await google.colab.kernel.invokeFunction(\n",
              "            'suggestCharts', [key], {});\n",
              "      } catch (error) {\n",
              "        console.error('Error during call to suggestCharts:', error);\n",
              "      }\n",
              "      quickchartButtonEl.classList.remove('colab-df-spinner');\n",
              "      quickchartButtonEl.classList.add('colab-df-quickchart-complete');\n",
              "    }\n",
              "    (() => {\n",
              "      let quickchartButtonEl =\n",
              "        document.querySelector('#df-3449b38b-7593-4526-a5e9-1b97259bce46 button');\n",
              "      quickchartButtonEl.style.display =\n",
              "        google.colab.kernel.accessAllowed ? 'block' : 'none';\n",
              "    })();\n",
              "  </script>\n",
              "</div>\n",
              "\n",
              "    </div>\n",
              "  </div>\n"
            ],
            "application/vnd.google.colaboratory.intrinsic+json": {
              "type": "dataframe",
              "variable_name": "df",
              "summary": "{\n  \"name\": \"df\",\n  \"rows\": 5572,\n  \"fields\": [\n    {\n      \"column\": \"v1\",\n      \"properties\": {\n        \"dtype\": \"category\",\n        \"num_unique_values\": 2,\n        \"samples\": [\n          \"spam\",\n          \"ham\"\n        ],\n        \"semantic_type\": \"\",\n        \"description\": \"\"\n      }\n    },\n    {\n      \"column\": \"v2\",\n      \"properties\": {\n        \"dtype\": \"string\",\n        \"num_unique_values\": 5169,\n        \"samples\": [\n          \"Did u download the fring app?\",\n          \"Pass dis to all ur contacts n see wat u get! Red;i'm in luv wid u. Blue;u put a smile on my face. Purple;u r realy hot. Pink;u r so swt. Orange;i thnk i lyk u. Green;i realy wana go out wid u. Yelow;i wnt u bck. Black;i'm jealous of u. Brown;i miss you Nw plz giv me one color\"\n        ],\n        \"semantic_type\": \"\",\n        \"description\": \"\"\n      }\n    },\n    {\n      \"column\": \"Unnamed: 2\",\n      \"properties\": {\n        \"dtype\": \"category\",\n        \"num_unique_values\": 43,\n        \"samples\": [\n          \" GOD said\",\n          \" SHE SHUDVETOLD U. DID URGRAN KNOW?NEWAY\"\n        ],\n        \"semantic_type\": \"\",\n        \"description\": \"\"\n      }\n    },\n    {\n      \"column\": \"Unnamed: 3\",\n      \"properties\": {\n        \"dtype\": \"category\",\n        \"num_unique_values\": 10,\n        \"samples\": [\n          \" \\\\\\\"OH No! COMPETITION\\\\\\\". Who knew\",\n          \" why to miss them\"\n        ],\n        \"semantic_type\": \"\",\n        \"description\": \"\"\n      }\n    },\n    {\n      \"column\": \"Unnamed: 4\",\n      \"properties\": {\n        \"dtype\": \"category\",\n        \"num_unique_values\": 5,\n        \"samples\": [\n          \"GNT:-)\\\"\",\n          \" one day these two will become FREINDS FOREVER!\\\"\"\n        ],\n        \"semantic_type\": \"\",\n        \"description\": \"\"\n      }\n    }\n  ]\n}"
            }
          },
          "metadata": {},
          "execution_count": 127
        }
      ]
    },
    {
      "cell_type": "markdown",
      "source": [
        "The other three columns that are not v1 or v2, are unnamed and will not be useful for the training of our data. Because of this we decided to remove them to ensure that our data is clean and that our prediction task is efficient."
      ],
      "metadata": {
        "id": "6Fa34Rei6t_n"
      }
    },
    {
      "cell_type": "code",
      "source": [
        "df = {\n",
        "    'sms' : df['v2'][:].values.tolist(), 'spam_status' : df['v1'].values.tolist()\n",
        "}\n",
        "df = pd.DataFrame(df)\n",
        "df.info()\n",
        "df.head(10)"
      ],
      "metadata": {
        "colab": {
          "base_uri": "https://localhost:8080/",
          "height": 524
        },
        "id": "zic2GwS_7Ba3",
        "outputId": "975b8550-5c5f-4a1b-d916-6d7196192cf8"
      },
      "execution_count": null,
      "outputs": [
        {
          "output_type": "stream",
          "name": "stdout",
          "text": [
            "<class 'pandas.core.frame.DataFrame'>\n",
            "RangeIndex: 5572 entries, 0 to 5571\n",
            "Data columns (total 2 columns):\n",
            " #   Column       Non-Null Count  Dtype \n",
            "---  ------       --------------  ----- \n",
            " 0   sms          5572 non-null   object\n",
            " 1   spam_status  5572 non-null   object\n",
            "dtypes: object(2)\n",
            "memory usage: 87.2+ KB\n"
          ]
        },
        {
          "output_type": "execute_result",
          "data": {
            "text/plain": [
              "                                                 sms spam_status\n",
              "0  Go until jurong point, crazy.. Available only ...         ham\n",
              "1                      Ok lar... Joking wif u oni...         ham\n",
              "2  Free entry in 2 a wkly comp to win FA Cup fina...        spam\n",
              "3  U dun say so early hor... U c already then say...         ham\n",
              "4  Nah I don't think he goes to usf, he lives aro...         ham\n",
              "5  FreeMsg Hey there darling it's been 3 week's n...        spam\n",
              "6  Even my brother is not like to speak with me. ...         ham\n",
              "7  As per your request 'Melle Melle (Oru Minnamin...         ham\n",
              "8  WINNER!! As a valued network customer you have...        spam\n",
              "9  Had your mobile 11 months or more? U R entitle...        spam"
            ],
            "text/html": [
              "\n",
              "  <div id=\"df-05d94beb-56cd-4091-b743-0f10bd0e5881\" class=\"colab-df-container\">\n",
              "    <div>\n",
              "<style scoped>\n",
              "    .dataframe tbody tr th:only-of-type {\n",
              "        vertical-align: middle;\n",
              "    }\n",
              "\n",
              "    .dataframe tbody tr th {\n",
              "        vertical-align: top;\n",
              "    }\n",
              "\n",
              "    .dataframe thead th {\n",
              "        text-align: right;\n",
              "    }\n",
              "</style>\n",
              "<table border=\"1\" class=\"dataframe\">\n",
              "  <thead>\n",
              "    <tr style=\"text-align: right;\">\n",
              "      <th></th>\n",
              "      <th>sms</th>\n",
              "      <th>spam_status</th>\n",
              "    </tr>\n",
              "  </thead>\n",
              "  <tbody>\n",
              "    <tr>\n",
              "      <th>0</th>\n",
              "      <td>Go until jurong point, crazy.. Available only ...</td>\n",
              "      <td>ham</td>\n",
              "    </tr>\n",
              "    <tr>\n",
              "      <th>1</th>\n",
              "      <td>Ok lar... Joking wif u oni...</td>\n",
              "      <td>ham</td>\n",
              "    </tr>\n",
              "    <tr>\n",
              "      <th>2</th>\n",
              "      <td>Free entry in 2 a wkly comp to win FA Cup fina...</td>\n",
              "      <td>spam</td>\n",
              "    </tr>\n",
              "    <tr>\n",
              "      <th>3</th>\n",
              "      <td>U dun say so early hor... U c already then say...</td>\n",
              "      <td>ham</td>\n",
              "    </tr>\n",
              "    <tr>\n",
              "      <th>4</th>\n",
              "      <td>Nah I don't think he goes to usf, he lives aro...</td>\n",
              "      <td>ham</td>\n",
              "    </tr>\n",
              "    <tr>\n",
              "      <th>5</th>\n",
              "      <td>FreeMsg Hey there darling it's been 3 week's n...</td>\n",
              "      <td>spam</td>\n",
              "    </tr>\n",
              "    <tr>\n",
              "      <th>6</th>\n",
              "      <td>Even my brother is not like to speak with me. ...</td>\n",
              "      <td>ham</td>\n",
              "    </tr>\n",
              "    <tr>\n",
              "      <th>7</th>\n",
              "      <td>As per your request 'Melle Melle (Oru Minnamin...</td>\n",
              "      <td>ham</td>\n",
              "    </tr>\n",
              "    <tr>\n",
              "      <th>8</th>\n",
              "      <td>WINNER!! As a valued network customer you have...</td>\n",
              "      <td>spam</td>\n",
              "    </tr>\n",
              "    <tr>\n",
              "      <th>9</th>\n",
              "      <td>Had your mobile 11 months or more? U R entitle...</td>\n",
              "      <td>spam</td>\n",
              "    </tr>\n",
              "  </tbody>\n",
              "</table>\n",
              "</div>\n",
              "    <div class=\"colab-df-buttons\">\n",
              "\n",
              "  <div class=\"colab-df-container\">\n",
              "    <button class=\"colab-df-convert\" onclick=\"convertToInteractive('df-05d94beb-56cd-4091-b743-0f10bd0e5881')\"\n",
              "            title=\"Convert this dataframe to an interactive table.\"\n",
              "            style=\"display:none;\">\n",
              "\n",
              "  <svg xmlns=\"http://www.w3.org/2000/svg\" height=\"24px\" viewBox=\"0 -960 960 960\">\n",
              "    <path d=\"M120-120v-720h720v720H120Zm60-500h600v-160H180v160Zm220 220h160v-160H400v160Zm0 220h160v-160H400v160ZM180-400h160v-160H180v160Zm440 0h160v-160H620v160ZM180-180h160v-160H180v160Zm440 0h160v-160H620v160Z\"/>\n",
              "  </svg>\n",
              "    </button>\n",
              "\n",
              "  <style>\n",
              "    .colab-df-container {\n",
              "      display:flex;\n",
              "      gap: 12px;\n",
              "    }\n",
              "\n",
              "    .colab-df-convert {\n",
              "      background-color: #E8F0FE;\n",
              "      border: none;\n",
              "      border-radius: 50%;\n",
              "      cursor: pointer;\n",
              "      display: none;\n",
              "      fill: #1967D2;\n",
              "      height: 32px;\n",
              "      padding: 0 0 0 0;\n",
              "      width: 32px;\n",
              "    }\n",
              "\n",
              "    .colab-df-convert:hover {\n",
              "      background-color: #E2EBFA;\n",
              "      box-shadow: 0px 1px 2px rgba(60, 64, 67, 0.3), 0px 1px 3px 1px rgba(60, 64, 67, 0.15);\n",
              "      fill: #174EA6;\n",
              "    }\n",
              "\n",
              "    .colab-df-buttons div {\n",
              "      margin-bottom: 4px;\n",
              "    }\n",
              "\n",
              "    [theme=dark] .colab-df-convert {\n",
              "      background-color: #3B4455;\n",
              "      fill: #D2E3FC;\n",
              "    }\n",
              "\n",
              "    [theme=dark] .colab-df-convert:hover {\n",
              "      background-color: #434B5C;\n",
              "      box-shadow: 0px 1px 3px 1px rgba(0, 0, 0, 0.15);\n",
              "      filter: drop-shadow(0px 1px 2px rgba(0, 0, 0, 0.3));\n",
              "      fill: #FFFFFF;\n",
              "    }\n",
              "  </style>\n",
              "\n",
              "    <script>\n",
              "      const buttonEl =\n",
              "        document.querySelector('#df-05d94beb-56cd-4091-b743-0f10bd0e5881 button.colab-df-convert');\n",
              "      buttonEl.style.display =\n",
              "        google.colab.kernel.accessAllowed ? 'block' : 'none';\n",
              "\n",
              "      async function convertToInteractive(key) {\n",
              "        const element = document.querySelector('#df-05d94beb-56cd-4091-b743-0f10bd0e5881');\n",
              "        const dataTable =\n",
              "          await google.colab.kernel.invokeFunction('convertToInteractive',\n",
              "                                                    [key], {});\n",
              "        if (!dataTable) return;\n",
              "\n",
              "        const docLinkHtml = 'Like what you see? Visit the ' +\n",
              "          '<a target=\"_blank\" href=https://colab.research.google.com/notebooks/data_table.ipynb>data table notebook</a>'\n",
              "          + ' to learn more about interactive tables.';\n",
              "        element.innerHTML = '';\n",
              "        dataTable['output_type'] = 'display_data';\n",
              "        await google.colab.output.renderOutput(dataTable, element);\n",
              "        const docLink = document.createElement('div');\n",
              "        docLink.innerHTML = docLinkHtml;\n",
              "        element.appendChild(docLink);\n",
              "      }\n",
              "    </script>\n",
              "  </div>\n",
              "\n",
              "\n",
              "<div id=\"df-9b156815-cba5-45f1-bf19-7f2d12a9b330\">\n",
              "  <button class=\"colab-df-quickchart\" onclick=\"quickchart('df-9b156815-cba5-45f1-bf19-7f2d12a9b330')\"\n",
              "            title=\"Suggest charts\"\n",
              "            style=\"display:none;\">\n",
              "\n",
              "<svg xmlns=\"http://www.w3.org/2000/svg\" height=\"24px\"viewBox=\"0 0 24 24\"\n",
              "     width=\"24px\">\n",
              "    <g>\n",
              "        <path d=\"M19 3H5c-1.1 0-2 .9-2 2v14c0 1.1.9 2 2 2h14c1.1 0 2-.9 2-2V5c0-1.1-.9-2-2-2zM9 17H7v-7h2v7zm4 0h-2V7h2v10zm4 0h-2v-4h2v4z\"/>\n",
              "    </g>\n",
              "</svg>\n",
              "  </button>\n",
              "\n",
              "<style>\n",
              "  .colab-df-quickchart {\n",
              "      --bg-color: #E8F0FE;\n",
              "      --fill-color: #1967D2;\n",
              "      --hover-bg-color: #E2EBFA;\n",
              "      --hover-fill-color: #174EA6;\n",
              "      --disabled-fill-color: #AAA;\n",
              "      --disabled-bg-color: #DDD;\n",
              "  }\n",
              "\n",
              "  [theme=dark] .colab-df-quickchart {\n",
              "      --bg-color: #3B4455;\n",
              "      --fill-color: #D2E3FC;\n",
              "      --hover-bg-color: #434B5C;\n",
              "      --hover-fill-color: #FFFFFF;\n",
              "      --disabled-bg-color: #3B4455;\n",
              "      --disabled-fill-color: #666;\n",
              "  }\n",
              "\n",
              "  .colab-df-quickchart {\n",
              "    background-color: var(--bg-color);\n",
              "    border: none;\n",
              "    border-radius: 50%;\n",
              "    cursor: pointer;\n",
              "    display: none;\n",
              "    fill: var(--fill-color);\n",
              "    height: 32px;\n",
              "    padding: 0;\n",
              "    width: 32px;\n",
              "  }\n",
              "\n",
              "  .colab-df-quickchart:hover {\n",
              "    background-color: var(--hover-bg-color);\n",
              "    box-shadow: 0 1px 2px rgba(60, 64, 67, 0.3), 0 1px 3px 1px rgba(60, 64, 67, 0.15);\n",
              "    fill: var(--button-hover-fill-color);\n",
              "  }\n",
              "\n",
              "  .colab-df-quickchart-complete:disabled,\n",
              "  .colab-df-quickchart-complete:disabled:hover {\n",
              "    background-color: var(--disabled-bg-color);\n",
              "    fill: var(--disabled-fill-color);\n",
              "    box-shadow: none;\n",
              "  }\n",
              "\n",
              "  .colab-df-spinner {\n",
              "    border: 2px solid var(--fill-color);\n",
              "    border-color: transparent;\n",
              "    border-bottom-color: var(--fill-color);\n",
              "    animation:\n",
              "      spin 1s steps(1) infinite;\n",
              "  }\n",
              "\n",
              "  @keyframes spin {\n",
              "    0% {\n",
              "      border-color: transparent;\n",
              "      border-bottom-color: var(--fill-color);\n",
              "      border-left-color: var(--fill-color);\n",
              "    }\n",
              "    20% {\n",
              "      border-color: transparent;\n",
              "      border-left-color: var(--fill-color);\n",
              "      border-top-color: var(--fill-color);\n",
              "    }\n",
              "    30% {\n",
              "      border-color: transparent;\n",
              "      border-left-color: var(--fill-color);\n",
              "      border-top-color: var(--fill-color);\n",
              "      border-right-color: var(--fill-color);\n",
              "    }\n",
              "    40% {\n",
              "      border-color: transparent;\n",
              "      border-right-color: var(--fill-color);\n",
              "      border-top-color: var(--fill-color);\n",
              "    }\n",
              "    60% {\n",
              "      border-color: transparent;\n",
              "      border-right-color: var(--fill-color);\n",
              "    }\n",
              "    80% {\n",
              "      border-color: transparent;\n",
              "      border-right-color: var(--fill-color);\n",
              "      border-bottom-color: var(--fill-color);\n",
              "    }\n",
              "    90% {\n",
              "      border-color: transparent;\n",
              "      border-bottom-color: var(--fill-color);\n",
              "    }\n",
              "  }\n",
              "</style>\n",
              "\n",
              "  <script>\n",
              "    async function quickchart(key) {\n",
              "      const quickchartButtonEl =\n",
              "        document.querySelector('#' + key + ' button');\n",
              "      quickchartButtonEl.disabled = true;  // To prevent multiple clicks.\n",
              "      quickchartButtonEl.classList.add('colab-df-spinner');\n",
              "      try {\n",
              "        const charts = await google.colab.kernel.invokeFunction(\n",
              "            'suggestCharts', [key], {});\n",
              "      } catch (error) {\n",
              "        console.error('Error during call to suggestCharts:', error);\n",
              "      }\n",
              "      quickchartButtonEl.classList.remove('colab-df-spinner');\n",
              "      quickchartButtonEl.classList.add('colab-df-quickchart-complete');\n",
              "    }\n",
              "    (() => {\n",
              "      let quickchartButtonEl =\n",
              "        document.querySelector('#df-9b156815-cba5-45f1-bf19-7f2d12a9b330 button');\n",
              "      quickchartButtonEl.style.display =\n",
              "        google.colab.kernel.accessAllowed ? 'block' : 'none';\n",
              "    })();\n",
              "  </script>\n",
              "</div>\n",
              "\n",
              "    </div>\n",
              "  </div>\n"
            ],
            "application/vnd.google.colaboratory.intrinsic+json": {
              "type": "dataframe",
              "variable_name": "df",
              "summary": "{\n  \"name\": \"df\",\n  \"rows\": 5572,\n  \"fields\": [\n    {\n      \"column\": \"sms\",\n      \"properties\": {\n        \"dtype\": \"string\",\n        \"num_unique_values\": 5169,\n        \"samples\": [\n          \"Did u download the fring app?\",\n          \"Pass dis to all ur contacts n see wat u get! Red;i'm in luv wid u. Blue;u put a smile on my face. Purple;u r realy hot. Pink;u r so swt. Orange;i thnk i lyk u. Green;i realy wana go out wid u. Yelow;i wnt u bck. Black;i'm jealous of u. Brown;i miss you Nw plz giv me one color\",\n          \"Ok...\"\n        ],\n        \"semantic_type\": \"\",\n        \"description\": \"\"\n      }\n    },\n    {\n      \"column\": \"spam_status\",\n      \"properties\": {\n        \"dtype\": \"category\",\n        \"num_unique_values\": 2,\n        \"samples\": [\n          \"spam\",\n          \"ham\"\n        ],\n        \"semantic_type\": \"\",\n        \"description\": \"\"\n      }\n    }\n  ]\n}"
            }
          },
          "metadata": {},
          "execution_count": 128
        }
      ]
    },
    {
      "cell_type": "markdown",
      "source": [
        "We decided that an SMS message with a large length size would take time to train, and is likely going to cause future problems down the road, so we decided to find the max length of any SMS message in the dataset."
      ],
      "metadata": {
        "id": "sw_BXAGa866B"
      }
    },
    {
      "cell_type": "code",
      "source": [
        "sms_len = [len(sms) for sms in df['sms']]\n",
        "print(f'Max SMS size: {max(sms_len)}')"
      ],
      "metadata": {
        "colab": {
          "base_uri": "https://localhost:8080/"
        },
        "id": "Ode05lXH9K1H",
        "outputId": "990a5cbf-89ae-4c88-d993-df3323a5afc4"
      },
      "execution_count": null,
      "outputs": [
        {
          "output_type": "stream",
          "name": "stdout",
          "text": [
            "Max SMS size: 910\n"
          ]
        }
      ]
    },
    {
      "cell_type": "markdown",
      "source": [
        "910 words is a very long SMS message, and is something that we likely do not want to include in our dataset. However, most SMS messages might be around this length so we decied to find the average length amongst the SMS messages."
      ],
      "metadata": {
        "id": "Lwe64U0W9MdR"
      }
    },
    {
      "cell_type": "code",
      "source": [
        "sms_len = [len(sms) for sms in df['sms']]\n",
        "average_sms_length = np.mean(sms_len)\n",
        "\n",
        "print(f'Average SMS size: {average_sms_length:.2f}')"
      ],
      "metadata": {
        "colab": {
          "base_uri": "https://localhost:8080/"
        },
        "id": "RoO3-5Iy8OyV",
        "outputId": "a81fc411-65a6-46de-9c70-312609c30c55"
      },
      "execution_count": null,
      "outputs": [
        {
          "output_type": "stream",
          "name": "stdout",
          "text": [
            "Average SMS size: 80.12\n"
          ]
        }
      ]
    },
    {
      "cell_type": "markdown",
      "source": [
        "With an average SMS size at 80, the Max SMS value of 910 is way too high for us to include in our dataset. We decided to plot this data, and determine just how many outliers there are through a violin plot."
      ],
      "metadata": {
        "id": "r4GbW5Zu9rNv"
      }
    },
    {
      "cell_type": "code",
      "source": [
        "import matplotlib.pyplot as plt\n",
        "\n",
        "plt.figure(figsize=(8, 6))\n",
        "plt.violinplot(sms_len, vert=False)\n",
        "plt.xlabel('SMS Length')\n",
        "plt.title('Violin Plot of SMS Lengths')\n",
        "plt.show()"
      ],
      "metadata": {
        "colab": {
          "base_uri": "https://localhost:8080/",
          "height": 564
        },
        "id": "xpJwmPOX94W7",
        "outputId": "d135ccd5-ad80-4ab6-a5dc-1320c3381d57"
      },
      "execution_count": null,
      "outputs": [
        {
          "output_type": "display_data",
          "data": {
            "text/plain": [
              "<Figure size 800x600 with 1 Axes>"
            ],
            "image/png": "[encoded data removed]"
          },
          "metadata": {}
        }
      ]
    },
    {
      "cell_type": "markdown",
      "source": [
        "It would appear that not many of the SMS messages within our dataset exceed 200-300 words, so we have decided to remove all SMS messages that exceed 300 words."
      ],
      "metadata": {
        "id": "Cku2UT8i-Yg2"
      }
    },
    {
      "cell_type": "code",
      "source": [
        "# Filter out SMS messages that exceed 300 characters\n",
        "df = df[df['sms'].str.len() <= 300]\n",
        "\n",
        "# Optionally, reset the index if needed\n",
        "df.reset_index(drop=True, inplace=True)\n",
        "\n",
        "df.info()"
      ],
      "metadata": {
        "colab": {
          "base_uri": "https://localhost:8080/"
        },
        "id": "owKjKAFI_Qkq",
        "outputId": "303ff80a-61e7-4276-f35e-ce18e4f5c25b"
      },
      "execution_count": null,
      "outputs": [
        {
          "output_type": "stream",
          "name": "stdout",
          "text": [
            "<class 'pandas.core.frame.DataFrame'>\n",
            "RangeIndex: 5537 entries, 0 to 5536\n",
            "Data columns (total 2 columns):\n",
            " #   Column       Non-Null Count  Dtype \n",
            "---  ------       --------------  ----- \n",
            " 0   sms          5537 non-null   object\n",
            " 1   spam_status  5537 non-null   object\n",
            "dtypes: object(2)\n",
            "memory usage: 86.6+ KB\n"
          ]
        }
      ]
    },
    {
      "cell_type": "markdown",
      "source": [
        "Now that we have removed the long SMS messages, we need to see if the dataset is imbalanced between messages that are spam and not spam."
      ],
      "metadata": {
        "id": "KGj0cpC3_y-6"
      }
    },
    {
      "cell_type": "code",
      "source": [
        "df['spam_status'].value_counts()"
      ],
      "metadata": {
        "colab": {
          "base_uri": "https://localhost:8080/"
        },
        "id": "9Y3pRkPv_80S",
        "outputId": "2ea43732-4c65-4150-b4ae-89fa1b56ddb7"
      },
      "execution_count": null,
      "outputs": [
        {
          "output_type": "execute_result",
          "data": {
            "text/plain": [
              "spam_status\n",
              "ham     4790\n",
              "spam     747\n",
              "Name: count, dtype: int64"
            ]
          },
          "metadata": {},
          "execution_count": 133
        }
      ]
    },
    {
      "cell_type": "markdown",
      "source": [
        "There is clearly an imbalance between how many messages are considered to be spam, and how many messages are not spam. Because of this we will definetly need to stratify the dataset to get a more equal distribution of the data."
      ],
      "metadata": {
        "id": "rtFWhx0UAFGS"
      }
    },
    {
      "cell_type": "code",
      "source": [
        "from sklearn.preprocessing import LabelEncoder\n",
        "\n",
        "label_encoder = LabelEncoder()\n",
        "y_encoded = label_encoder.fit_transform(df['spam_status'])"
      ],
      "metadata": {
        "id": "i9M17CtfAbb0"
      },
      "execution_count": null,
      "outputs": []
    },
    {
      "cell_type": "code",
      "source": [
        "from tensorflow import keras\n",
        "from tensorflow.keras.preprocessing.text import Tokenizer\n",
        "from tensorflow.keras.preprocessing.sequence import pad_sequences\n",
        "\n",
        "NUM_TOP_WORDS = None # use entire vocabulary!\n",
        "MAX_ART_LEN = 300 # maximum and minimum number of words\n",
        "\n",
        "#tokenize the text\n",
        "tokenizer = Tokenizer(num_words=NUM_TOP_WORDS)\n",
        "tokenizer.fit_on_texts(df['sms'])\n",
        "# save as sequences with integers replacing words\n",
        "sequences = tokenizer.texts_to_sequences(df['sms'])\n",
        "\n",
        "word_index = tokenizer.word_index\n",
        "NUM_TOP_WORDS = len(word_index) if NUM_TOP_WORDS==None else NUM_TOP_WORDS\n",
        "top_words = min((len(word_index),NUM_TOP_WORDS))\n",
        "print('Found %s unique tokens. Distilled to %d top words.' % (len(word_index),top_words))\n",
        "\n",
        "X = pad_sequences(sequences, maxlen=MAX_ART_LEN)\n",
        "\n",
        "y = keras.utils.to_categorical(y_encoded)\n",
        "print('Shape of data tensor:', X.shape)\n",
        "print('Shape of label tensor:', y.shape)\n",
        "print(np.max(X))"
      ],
      "metadata": {
        "colab": {
          "base_uri": "https://localhost:8080/"
        },
        "id": "V6sTRDSlAq9A",
        "outputId": "1fdcee91-4ca5-410a-f140-b7a11765c90f"
      },
      "execution_count": null,
      "outputs": [
        {
          "output_type": "stream",
          "name": "stdout",
          "text": [
            "Found 8741 unique tokens. Distilled to 8741 top words.\n",
            "Shape of data tensor: (5537, 300)\n",
            "Shape of label tensor: (5537, 2)\n",
            "8741\n"
          ]
        }
      ]
    },
    {
      "cell_type": "code",
      "source": [
        "from sklearn.model_selection import train_test_split\n",
        "from sklearn import metrics as mt\n",
        "from matplotlib import pyplot as plt\n",
        "%matplotlib inline\n",
        "\n",
        "# Split it into train / test subsets\n",
        "X_train, X_test, y_train, y_test = train_test_split(X, y, test_size=0.2,\n",
        "                                                            stratify=y_encoded,\n",
        "                                                            random_state=42)"
      ],
      "metadata": {
        "id": "nWeGEvQRBmTU"
      },
      "execution_count": null,
      "outputs": []
    },
    {
      "cell_type": "markdown",
      "source": [
        "*Choose and explain what metric(s) you will use to evaluate your algorithm’s performance. You should give a detailed argument for why this (these) metric(s) are appropriate on your data. That is, why is the metric appropriate for the task (e.g., in terms of the business case for the task). Please note: rarely is accuracy the best evaluation metric to use. Think deeply about an appropriate measure of performance.*"
      ],
      "metadata": {
        "id": "0pEMBQU-uZX4"
      }
    },
    {
      "cell_type": "markdown",
      "source": [
        "The metric that we will be using to evaluate our algorithm's performance is through Area Under the Curve. Because our data is imbalanced, AUC would do a great job at evaulating all of the data, and not just looking at the majority (non-spam messages). AUC would also be a great way to evaluate our algorithms performance because it focuses on true positives and true negatives. In terms of real world application, this would be crucial as spam messages are usually a way for hackers to breach user privacy, and helps the user know whether the message they are recieving is one that is spam or not spam.\n",
        "\n",
        "Source: https://keras.io/api/metrics/classification_metrics/#auc-class"
      ],
      "metadata": {
        "id": "cTHo7K5_B-Ms"
      }
    },
    {
      "cell_type": "markdown",
      "source": [
        "*Choose the method you will use for dividing your data into training and testing (i.e., are you using Stratified 10-fold cross validation? Shuffle splits? Why?). Explain why your chosen method is appropriate or use more than one method as appropriate. Convince me that your train/test splitting method is a realistic mirroring of how an algorithm would be used in practice.*"
      ],
      "metadata": {
        "id": "lnOwW7UbucA4"
      }
    },
    {
      "cell_type": "markdown",
      "source": [
        "The method that we have chosen for dividing our data into training and testing is through a Stratified Train Test Split. A Stratified Train Test Split would be appropriate in this case because it does a good job with uneven class distribution. In our case, there are a lot more non-spam messages than there are spam messages, so the Stratification of the data would do a good job at evening out class distribution. In the real world, stratification of the data would be crucial to training and testing because it ensures that our algorithm is evaluated by both spam and non-spam messages, which would further ensure a better generalization of the data."
      ],
      "metadata": {
        "id": "fucsI8GyDOpv"
      }
    },
    {
      "cell_type": "markdown",
      "source": [
        "# Modeling"
      ],
      "metadata": {
        "id": "H5mhyvQjuebd"
      }
    },
    {
      "cell_type": "markdown",
      "source": [
        "*Investigate at least two different sequential network architectures (e.g., a CNN and a Transformer). Alternatively, you may also choose a recurrent network and Transformer network. Be sure to use an embedding layer (try to use a pre-trained embedding, if possible). Adjust one hyper-parameter of each network to potentially improve generalization performance (train a total of at least four models). Visualize the performance of training and validation sets versus the training iterations, showing that the models converged.*"
      ],
      "metadata": {
        "id": "_sC5BRgZuiF_"
      }
    },
    {
      "cell_type": "code",
      "source": [
        "EMBED_SIZE = 50\n",
        "# the embed size should match the file you load glove from\n",
        "embeddings_index = {}\n",
        "f = open('/content/drive/MyDrive/Colab Notebooks/glove.6B.50d.txt')\n",
        "# save key/array pairs of the embeddings\n",
        "#  the key of the dictionary is the word, the array is the embedding\n",
        "for line in f:\n",
        "    values = line.split()\n",
        "    word = values[0]\n",
        "    coefs = np.asarray(values[1:], dtype='float32')\n",
        "    embeddings_index[word] = coefs\n",
        "f.close()\n",
        "\n",
        "print('Found %s word vectors.' % len(embeddings_index))\n",
        "\n",
        "# now fill in the matrix, using the ordering from the\n",
        "#  keras word tokenizer from before\n",
        "found_words = 0\n",
        "embedding_matrix = np.zeros((len(word_index) + 1, EMBED_SIZE))\n",
        "for word, i in word_index.items():\n",
        "    embedding_vector = embeddings_index.get(word)\n",
        "    if embedding_vector is not None:\n",
        "        # words not found in embedding index will be ALL-ZEROS\n",
        "        embedding_matrix[i] = embedding_vector\n",
        "        found_words = found_words+1\n",
        "\n",
        "print(\"Embedding Shape:\",embedding_matrix.shape, \"\\n\",\n",
        "      \"Total words found:\",found_words, \"\\n\",\n",
        "      \"Percentage:\",100*found_words/embedding_matrix.shape[0])"
      ],
      "metadata": {
        "colab": {
          "base_uri": "https://localhost:8080/"
        },
        "id": "xwQr9CH1ErPn",
        "outputId": "31d8189e-3ad4-43c4-951c-eac5f2b23893"
      },
      "execution_count": null,
      "outputs": [
        {
          "output_type": "stream",
          "name": "stdout",
          "text": [
            "Found 400000 word vectors.\n",
            "Embedding Shape: (8742, 50) \n",
            " Total words found: 6389 \n",
            " Percentage: 73.0839624799817\n"
          ]
        }
      ]
    },
    {
      "cell_type": "code",
      "source": [
        "from tensorflow.keras.layers import Embedding\n",
        "\n",
        "# save this embedding now\n",
        "embedding_layer = Embedding(len(word_index) + 1,\n",
        "                            EMBED_SIZE,\n",
        "                            weights=[embedding_matrix],# here is the embedding getting saved\n",
        "                            input_length=MAX_ART_LEN,\n",
        "                            trainable=False)"
      ],
      "metadata": {
        "id": "d1ySIpPpMMY_"
      },
      "execution_count": null,
      "outputs": []
    },
    {
      "cell_type": "code",
      "source": [
        "from tensorflow.keras.models import Model\n",
        "from tensorflow.keras.layers import Conv1D, MaxPooling1D, Flatten, Dense\n",
        "from tensorflow.keras.layers import Dense, Input, Dropout\n",
        "from keras.metrics import AUC\n",
        "\n",
        "NUM_CLASSES = 2\n",
        "\n",
        "sequence_input = Input(shape=(MAX_ART_LEN,), dtype='int32')\n",
        "# starting size: 300\n",
        "embedded_sequences = embedding_layer(sequence_input) # from previous embedding\n",
        "x = Conv1D(128, 5, activation='relu',\n",
        "           kernel_initializer='he_uniform')(embedded_sequences)\n",
        "\n",
        "# after conv, size becomes: 300-4=296\n",
        "x = MaxPooling1D(5)(x) # after max pool, 296/5 = 59\n",
        "x = Dropout(0.2)(x)\n",
        "x = Conv1D(128, 5, activation='relu',\n",
        "           kernel_initializer='he_uniform')(x)\n",
        "\n",
        "# new size is 55\n",
        "x = MaxPooling1D(5)(x) # after max pool, size is 55/5 = 11\n",
        "x = Dropout(0.2)(x)\n",
        "x = Conv1D(128, 5, activation='relu',\n",
        "           kernel_initializer='he_uniform')(x)\n",
        "\n",
        "# after convolution, size becomes 7 elements long\n",
        "x = MaxPooling1D(7)(x) # this is the size to globally flatten\n",
        "# flattened vector max pools across each of the 7 elements\n",
        "# so vectors is now 128 dimensions (same as num output filters)\n",
        "x = Flatten()(x)\n",
        "x = Dropout(0.2)(x)\n",
        "x = Dense(128, activation='relu',\n",
        "          kernel_initializer='he_uniform')(x)\n",
        "\n",
        "preds = Dense(NUM_CLASSES, activation='softmax',\n",
        "              kernel_initializer='glorot_uniform')(x)\n",
        "\n",
        "model = Model(sequence_input, preds)\n",
        "\n",
        "# if representing as OHE, use categorical_crossentropy\n",
        "# if representing the class as an integer, use sparse_categorical_crossentropy\n",
        "model.compile(loss='binary_crossentropy',\n",
        "              optimizer='rmsprop',\n",
        "              metrics=[AUC()])\n",
        "\n",
        "print(model.summary())"
      ],
      "metadata": {
        "colab": {
          "base_uri": "https://localhost:8080/"
        },
        "id": "rzLfGZzyMc42",
        "outputId": "68269e89-d498-42a6-950c-e9bb96e74e31"
      },
      "execution_count": null,
      "outputs": [
        {
          "output_type": "stream",
          "name": "stdout",
          "text": [
            "Model: \"model_8\"\n",
            "_________________________________________________________________\n",
            " Layer (type)                Output Shape              Param #   \n",
            "=================================================================\n",
            " input_10 (InputLayer)       [(None, 300)]             0         \n",
            "                                                                 \n",
            " embedding_5 (Embedding)     (None, 300, 50)           437100    \n",
            "                                                                 \n",
            " conv1d_27 (Conv1D)          (None, 296, 128)          32128     \n",
            "                                                                 \n",
            " max_pooling1d_27 (MaxPooli  (None, 59, 128)           0         \n",
            " ng1D)                                                           \n",
            "                                                                 \n",
            " dropout_26 (Dropout)        (None, 59, 128)           0         \n",
            "                                                                 \n",
            " conv1d_28 (Conv1D)          (None, 55, 128)           82048     \n",
            "                                                                 \n",
            " max_pooling1d_28 (MaxPooli  (None, 11, 128)           0         \n",
            " ng1D)                                                           \n",
            "                                                                 \n",
            " dropout_27 (Dropout)        (None, 11, 128)           0         \n",
            "                                                                 \n",
            " conv1d_29 (Conv1D)          (None, 7, 128)            82048     \n",
            "                                                                 \n",
            " max_pooling1d_29 (MaxPooli  (None, 1, 128)            0         \n",
            " ng1D)                                                           \n",
            "                                                                 \n",
            " flatten_8 (Flatten)         (None, 128)               0         \n",
            "                                                                 \n",
            " dropout_28 (Dropout)        (None, 128)               0         \n",
            "                                                                 \n",
            " dense_16 (Dense)            (None, 128)               16512     \n",
            "                                                                 \n",
            " dense_17 (Dense)            (None, 2)                 258       \n",
            "                                                                 \n",
            "=================================================================\n",
            "Total params: 650094 (2.48 MB)\n",
            "Trainable params: 212994 (832.01 KB)\n",
            "Non-trainable params: 437100 (1.67 MB)\n",
            "_________________________________________________________________\n",
            "None\n"
          ]
        }
      ]
    },
    {
      "cell_type": "code",
      "source": [
        "histories = []\n",
        "tmp = model.fit(X_train, y_train, validation_data=(X_test, y_test),\n",
        "          epochs=2, batch_size=512)\n",
        "histories.append(tmp)"
      ],
      "metadata": {
        "colab": {
          "base_uri": "https://localhost:8080/"
        },
        "id": "YOLWbBhhNLdG",
        "outputId": "960125a8-b27d-4ffb-ce02-22c9dd0c1dd6"
      },
      "execution_count": null,
      "outputs": [
        {
          "output_type": "stream",
          "name": "stdout",
          "text": [
            "Epoch 1/2\n",
            "9/9 [==============================] - 11s 1s/step - loss: 0.4859 - auc_3: 0.8737 - val_loss: 0.2879 - val_auc_3: 0.9517\n",
            "Epoch 2/2\n",
            "9/9 [==============================] - 8s 859ms/step - loss: 0.2794 - auc_3: 0.9515 - val_loss: 0.2198 - val_auc_3: 0.9730\n"
          ]
        }
      ]
    },
    {
      "cell_type": "code",
      "source": [
        "histories = []\n",
        "tmp = model.fit(X_train, y_train, validation_data=(X_test, y_test),\n",
        "          epochs=10, batch_size=512)\n",
        "histories.append(tmp)"
      ],
      "metadata": {
        "colab": {
          "base_uri": "https://localhost:8080/"
        },
        "id": "vSUfd1y3PhVH",
        "outputId": "436bc4ef-44de-43fc-abd2-0fc68c49cff3"
      },
      "execution_count": null,
      "outputs": [
        {
          "output_type": "stream",
          "name": "stdout",
          "text": [
            "Epoch 1/10\n",
            "9/9 [==============================] - 10s 1s/step - loss: 0.1933 - auc_3: 0.9752 - val_loss: 0.2327 - val_auc_3: 0.9596\n",
            "Epoch 2/10\n",
            "9/9 [==============================] - 8s 867ms/step - loss: 0.1879 - auc_3: 0.9737 - val_loss: 0.1654 - val_auc_3: 0.9742\n",
            "Epoch 3/10\n",
            "9/9 [==============================] - 9s 1s/step - loss: 0.1510 - auc_3: 0.9820 - val_loss: 0.1510 - val_auc_3: 0.9817\n",
            "Epoch 4/10\n",
            "9/9 [==============================] - 9s 1s/step - loss: 0.1482 - auc_3: 0.9822 - val_loss: 0.1271 - val_auc_3: 0.9814\n",
            "Epoch 5/10\n",
            "9/9 [==============================] - 8s 870ms/step - loss: 0.1048 - auc_3: 0.9886 - val_loss: 0.1378 - val_auc_3: 0.9852\n",
            "Epoch 6/10\n",
            "9/9 [==============================] - 9s 1s/step - loss: 0.1423 - auc_3: 0.9819 - val_loss: 0.1111 - val_auc_3: 0.9865\n",
            "Epoch 7/10\n",
            "9/9 [==============================] - 9s 997ms/step - loss: 0.0920 - auc_3: 0.9891 - val_loss: 0.1714 - val_auc_3: 0.9758\n",
            "Epoch 8/10\n",
            "9/9 [==============================] - 8s 868ms/step - loss: 0.1035 - auc_3: 0.9885 - val_loss: 0.0958 - val_auc_3: 0.9918\n",
            "Epoch 9/10\n",
            "9/9 [==============================] - 9s 1s/step - loss: 0.0736 - auc_3: 0.9929 - val_loss: 0.0902 - val_auc_3: 0.9900\n",
            "Epoch 10/10\n",
            "9/9 [==============================] - 8s 877ms/step - loss: 0.0978 - auc_3: 0.9877 - val_loss: 0.0830 - val_auc_3: 0.9922\n"
          ]
        }
      ]
    },
    {
      "cell_type": "code",
      "source": [
        "from sklearn import metrics as mt\n",
        "from matplotlib import pyplot as plt\n",
        "%matplotlib inline\n",
        "\n",
        "# combine all the history from training together\n",
        "combined = dict()\n",
        "for key in ['auc_3','val_auc_3','loss','val_loss']:\n",
        "    combined[key] = np.hstack([x.history[key] for x in histories])\n",
        "\n",
        "# summarize history for accuracy\n",
        "plt.figure(figsize=(15,5))\n",
        "plt.subplot(121)\n",
        "plt.plot(combined['auc_3'])\n",
        "plt.plot(combined['val_auc_3'])\n",
        "plt.title('model auc')\n",
        "plt.ylabel('auc')\n",
        "plt.xlabel('epoch')\n",
        "plt.legend(['train', 'test'], loc='upper left')\n",
        "\n",
        "# summarize history for loss\n",
        "plt.subplot(122)\n",
        "plt.plot(combined['loss'])\n",
        "plt.plot(combined['val_loss'])\n",
        "plt.title('model loss')\n",
        "plt.ylabel('loss')\n",
        "plt.xlabel('epoch')\n",
        "plt.legend(['train', 'test'], loc='upper left')\n",
        "plt.show()"
      ],
      "metadata": {
        "colab": {
          "base_uri": "https://localhost:8080/",
          "height": 398
        },
        "id": "IiqI5shHRJFC",
        "outputId": "1d3f1584-1f73-4fd3-e2b8-9b69e776ea8f"
      },
      "execution_count": null,
      "outputs": [
        {
          "output_type": "display_data",
          "data": {
            "text/plain": [
              "<Figure size 1500x500 with 2 Axes>"
            ],
            "image/png": "[encoded data removed]"
          },
          "metadata": {}
        }
      ]
    },
    {
      "cell_type": "code",
      "source": [
        "from sklearn.metrics import roc_auc_score\n",
        "\n",
        "#source: https://scikit-learn.org/stable/modules/generated/sklearn.metrics.roc_auc_score.html\n",
        "\n",
        "# now let's see how well the model performed\n",
        "yhat_proba = model.predict(X_test)  # sigmoid output probabilities\n",
        "yhat1 = np.round(yhat_proba.squeeze())  # round to get binary class\n",
        "\n",
        "evals1 = roc_auc_score(y_test, yhat_proba)  # compute AUC score\n",
        "print(\"AUC Score:\", evals1)"
      ],
      "metadata": {
        "colab": {
          "base_uri": "https://localhost:8080/"
        },
        "id": "eYe1svIUSk-F",
        "outputId": "f1ad4c12-403c-46e0-a52d-6d87f2d61336"
      },
      "execution_count": null,
      "outputs": [
        {
          "output_type": "stream",
          "name": "stdout",
          "text": [
            "35/35 [==============================] - 1s 19ms/step\n",
            "AUC Score: 0.9848223471037365\n"
          ]
        }
      ]
    },
    {
      "cell_type": "code",
      "source": [
        "from tensorflow.keras.models import Model\n",
        "from tensorflow.keras.layers import Conv1D, MaxPooling1D, Flatten, Dense\n",
        "from tensorflow.keras.layers import Dense, Input, Dropout\n",
        "from keras.metrics import AUC\n",
        "\n",
        "NUM_CLASSES = 2\n",
        "\n",
        "sequence_input = Input(shape=(MAX_ART_LEN,), dtype='int32')\n",
        "# starting size: 300\n",
        "embedded_sequences = embedding_layer(sequence_input) # from previous embedding\n",
        "x = Conv1D(128, 5, activation='relu',\n",
        "           kernel_initializer='he_uniform')(embedded_sequences)\n",
        "\n",
        "# after conv, size becomes: 300-4=296\n",
        "x = MaxPooling1D(5)(x) # after max pool, 296/5 = 59\n",
        "x = Dropout(0.2)(x)\n",
        "x = Conv1D(128, 5, activation='relu',\n",
        "           kernel_initializer='he_uniform')(x)\n",
        "\n",
        "# new size is 55\n",
        "x = MaxPooling1D(5)(x) # after max pool, size is 55/5 = 11\n",
        "x = Dropout(0.2)(x)\n",
        "x = Conv1D(128, 5, activation='relu',\n",
        "           kernel_initializer='he_uniform')(x)\n",
        "\n",
        "# after convolution, size becomes 7 elements long\n",
        "x = MaxPooling1D(7)(x) # this is the size to globally flatten\n",
        "# flattened vector max pools across each of the 7 elements\n",
        "# so vectors is now 128 dimensions (same as num output filters)\n",
        "x = Flatten()(x)\n",
        "x = Dropout(0.2)(x)\n",
        "x = Dense(128, activation='relu',\n",
        "          kernel_initializer='he_uniform')(x)\n",
        "\n",
        "preds = Dense(NUM_CLASSES, activation='softmax',\n",
        "              kernel_initializer='glorot_uniform')(x)\n",
        "\n",
        "model2 = Model(sequence_input, preds)\n",
        "\n",
        "# if representing as OHE, use categorical_crossentropy\n",
        "# if representing the class as an integer, use sparse_categorical_crossentropy\n",
        "model2.compile(loss='binary_crossentropy',\n",
        "              optimizer='adam',\n",
        "              metrics=[AUC()])\n",
        "\n",
        "print(model.summary())"
      ],
      "metadata": {
        "colab": {
          "base_uri": "https://localhost:8080/"
        },
        "id": "-bZ9D74lTNdu",
        "outputId": "24d1e368-6eee-47b9-96e7-ccaa5db7a33e"
      },
      "execution_count": null,
      "outputs": [
        {
          "output_type": "stream",
          "name": "stdout",
          "text": [
            "Model: \"model_8\"\n",
            "_________________________________________________________________\n",
            " Layer (type)                Output Shape              Param #   \n",
            "=================================================================\n",
            " input_10 (InputLayer)       [(None, 300)]             0         \n",
            "                                                                 \n",
            " embedding_5 (Embedding)     (None, 300, 50)           437100    \n",
            "                                                                 \n",
            " conv1d_27 (Conv1D)          (None, 296, 128)          32128     \n",
            "                                                                 \n",
            " max_pooling1d_27 (MaxPooli  (None, 59, 128)           0         \n",
            " ng1D)                                                           \n",
            "                                                                 \n",
            " dropout_26 (Dropout)        (None, 59, 128)           0         \n",
            "                                                                 \n",
            " conv1d_28 (Conv1D)          (None, 55, 128)           82048     \n",
            "                                                                 \n",
            " max_pooling1d_28 (MaxPooli  (None, 11, 128)           0         \n",
            " ng1D)                                                           \n",
            "                                                                 \n",
            " dropout_27 (Dropout)        (None, 11, 128)           0         \n",
            "                                                                 \n",
            " conv1d_29 (Conv1D)          (None, 7, 128)            82048     \n",
            "                                                                 \n",
            " max_pooling1d_29 (MaxPooli  (None, 1, 128)            0         \n",
            " ng1D)                                                           \n",
            "                                                                 \n",
            " flatten_8 (Flatten)         (None, 128)               0         \n",
            "                                                                 \n",
            " dropout_28 (Dropout)        (None, 128)               0         \n",
            "                                                                 \n",
            " dense_16 (Dense)            (None, 128)               16512     \n",
            "                                                                 \n",
            " dense_17 (Dense)            (None, 2)                 258       \n",
            "                                                                 \n",
            "=================================================================\n",
            "Total params: 650094 (2.48 MB)\n",
            "Trainable params: 212994 (832.01 KB)\n",
            "Non-trainable params: 437100 (1.67 MB)\n",
            "_________________________________________________________________\n",
            "None\n"
          ]
        }
      ]
    },
    {
      "cell_type": "code",
      "source": [
        "histories2 = []\n",
        "tmp = model2.fit(X_train, y_train, validation_data=(X_test, y_test),\n",
        "          epochs=2, batch_size=512)\n",
        "histories2.append(tmp)"
      ],
      "metadata": {
        "colab": {
          "base_uri": "https://localhost:8080/"
        },
        "id": "ptZ3XfUxVODl",
        "outputId": "8537cdd8-0e7a-4171-d74a-d9dcd2ba4cf0"
      },
      "execution_count": null,
      "outputs": [
        {
          "output_type": "stream",
          "name": "stdout",
          "text": [
            "Epoch 1/2\n",
            "9/9 [==============================] - 9s 899ms/step - loss: 0.4370 - auc_4: 0.8900 - val_loss: 0.2651 - val_auc_4: 0.9569\n",
            "Epoch 2/2\n",
            "9/9 [==============================] - 9s 1s/step - loss: 0.2515 - auc_4: 0.9584 - val_loss: 0.2341 - val_auc_4: 0.9623\n"
          ]
        }
      ]
    },
    {
      "cell_type": "code",
      "source": [
        "tmp = model2.fit(X_train, y_train,\n",
        "                validation_data=(X_test, y_test),\n",
        "                epochs=10, batch_size=512)\n",
        "histories2.append(tmp)"
      ],
      "metadata": {
        "colab": {
          "base_uri": "https://localhost:8080/"
        },
        "id": "jFabO_vXVWUC",
        "outputId": "c9b8c6f0-a55a-435e-e3e0-73b7660dd2e6"
      },
      "execution_count": null,
      "outputs": [
        {
          "output_type": "stream",
          "name": "stdout",
          "text": [
            "Epoch 1/10\n",
            "9/9 [==============================] - 10s 1s/step - loss: 0.1971 - auc_4: 0.9719 - val_loss: 0.1760 - val_auc_4: 0.9717\n",
            "Epoch 2/10\n",
            "9/9 [==============================] - 8s 949ms/step - loss: 0.1452 - auc_4: 0.9834 - val_loss: 0.1449 - val_auc_4: 0.9787\n",
            "Epoch 3/10\n",
            "9/9 [==============================] - 9s 900ms/step - loss: 0.1141 - auc_4: 0.9861 - val_loss: 0.1318 - val_auc_4: 0.9842\n",
            "Epoch 4/10\n",
            "9/9 [==============================] - 9s 1s/step - loss: 0.1042 - auc_4: 0.9869 - val_loss: 0.1093 - val_auc_4: 0.9894\n",
            "Epoch 5/10\n",
            "9/9 [==============================] - 14s 2s/step - loss: 0.0922 - auc_4: 0.9902 - val_loss: 0.0965 - val_auc_4: 0.9924\n",
            "Epoch 6/10\n",
            "9/9 [==============================] - 8s 869ms/step - loss: 0.0865 - auc_4: 0.9909 - val_loss: 0.0798 - val_auc_4: 0.9932\n",
            "Epoch 7/10\n",
            "9/9 [==============================] - 9s 1s/step - loss: 0.0678 - auc_4: 0.9931 - val_loss: 0.0701 - val_auc_4: 0.9923\n",
            "Epoch 8/10\n",
            "9/9 [==============================] - 9s 1s/step - loss: 0.0602 - auc_4: 0.9935 - val_loss: 0.0629 - val_auc_4: 0.9926\n",
            "Epoch 9/10\n",
            "9/9 [==============================] - 8s 867ms/step - loss: 0.0515 - auc_4: 0.9947 - val_loss: 0.0620 - val_auc_4: 0.9942\n",
            "Epoch 10/10\n",
            "9/9 [==============================] - 9s 1s/step - loss: 0.0457 - auc_4: 0.9960 - val_loss: 0.0561 - val_auc_4: 0.9938\n"
          ]
        }
      ]
    },
    {
      "cell_type": "code",
      "source": [
        "from sklearn import metrics as mt\n",
        "from matplotlib import pyplot as plt\n",
        "%matplotlib inline\n",
        "\n",
        "# combine all the history from training together\n",
        "combined = dict()\n",
        "for key in ['auc_4','val_auc_4','loss','val_loss']:\n",
        "    combined[key] = np.hstack([x.history[key] for x in histories2])\n",
        "\n",
        "# summarize history for accuracy\n",
        "plt.figure(figsize=(15,5))\n",
        "plt.subplot(121)\n",
        "plt.plot(combined['auc_4'])\n",
        "plt.plot(combined['val_auc_4'])\n",
        "plt.title('model auc')\n",
        "plt.ylabel('auc')\n",
        "plt.xlabel('epoch')\n",
        "plt.legend(['train', 'test'], loc='upper left')\n",
        "\n",
        "# summarize history for loss\n",
        "plt.subplot(122)\n",
        "plt.plot(combined['loss'])\n",
        "plt.plot(combined['val_loss'])\n",
        "plt.title('model loss')\n",
        "plt.ylabel('loss')\n",
        "plt.xlabel('epoch')\n",
        "plt.legend(['train', 'test'], loc='upper left')\n",
        "plt.show()"
      ],
      "metadata": {
        "colab": {
          "base_uri": "https://localhost:8080/",
          "height": 401
        },
        "id": "pEAkSR7xVqWc",
        "outputId": "5cf0923c-23ca-42e5-be00-0a524dcb6190"
      },
      "execution_count": null,
      "outputs": [
        {
          "output_type": "display_data",
          "data": {
            "text/plain": [
              "<Figure size 1500x500 with 2 Axes>"
            ],
            "image/png": "[encoded data removed]"
          },
          "metadata": {}
        }
      ]
    },
    {
      "cell_type": "code",
      "source": [
        "from sklearn.metrics import roc_auc_score\n",
        "\n",
        "#source: https://scikit-learn.org/stable/modules/generated/sklearn.metrics.roc_auc_score.html\n",
        "\n",
        "# now let's see how well the model performed\n",
        "yhat_proba = model.predict(X_test)  # sigmoid output probabilities\n",
        "yhat2 = np.round(yhat_proba.squeeze())  # round to get binary class\n",
        "\n",
        "evals2 = roc_auc_score(y_test, yhat2)  # compute AUC score\n",
        "print(\"AUC Score:\", evals2)"
      ],
      "metadata": {
        "colab": {
          "base_uri": "https://localhost:8080/"
        },
        "id": "kYFZQI-qYKMt",
        "outputId": "5a99848a-3714-474d-da29-87e35fd4260e"
      },
      "execution_count": null,
      "outputs": [
        {
          "output_type": "stream",
          "name": "stdout",
          "text": [
            "35/35 [==============================] - 2s 49ms/step\n",
            "AUC Score: 0.9322980453632489\n"
          ]
        }
      ]
    },
    {
      "cell_type": "code",
      "source": [
        "from tensorflow.keras.layers import MultiHeadAttention, LayerNormalization\n",
        "from tensorflow.keras import Sequential\n",
        "from tensorflow.keras.layers import Layer\n",
        "\n",
        "# The transformer architecture\n",
        "class TransformerBlock(Layer): # inherit from Keras Layer\n",
        "    def __init__(self, embed_dim, num_heads, ff_dim, rate=0.2):\n",
        "        super().__init__()\n",
        "        # setup the model heads and feedforward network\n",
        "        self.att = MultiHeadAttention(num_heads=num_heads,\n",
        "                                      key_dim=embed_dim)\n",
        "\n",
        "        # make a two layer network that processes the attention\n",
        "        self.ffn = Sequential()\n",
        "        self.ffn.add( Dense(ff_dim, activation='relu') )\n",
        "        self.ffn.add( Dense(embed_dim) )\n",
        "\n",
        "        self.layernorm1 = LayerNormalization(epsilon=1e-6)\n",
        "        self.layernorm2 = LayerNormalization(epsilon=1e-6)\n",
        "        self.dropout1 = Dropout(rate)\n",
        "        self.dropout2 = Dropout(rate)\n",
        "\n",
        "    def call(self, inputs, training):\n",
        "        # apply the layers as needed (similar to PyTorch)\n",
        "\n",
        "        # get the attention output from multi heads\n",
        "        # Using same inpout here is self-attention\n",
        "        # call inputs are (query, value, key)\n",
        "        # if only two inputs given, value and key are assumed the same\n",
        "        attn_output = self.att(inputs, inputs)\n",
        "\n",
        "        # create residual output, with attention\n",
        "        out1 = self.layernorm1(inputs + attn_output)\n",
        "\n",
        "        # apply dropout if training\n",
        "        out1 = self.dropout1(out1, training=training)\n",
        "\n",
        "        # place through feed forward after layer norm\n",
        "        ffn_output = self.ffn(out1)\n",
        "        out2 = self.layernorm2(out1 + ffn_output)\n",
        "\n",
        "        # apply dropout if training\n",
        "        out2 = self.dropout2(out2, training=training)\n",
        "        #return the residual from Dense layer\n",
        "        return out2\n",
        "\n",
        "class TokenAndPositionEmbedding(Layer):\n",
        "    def __init__(self, maxlen, vocab_size, embed_dim):\n",
        "        super().__init__()\n",
        "        # create two embeddings\n",
        "        # one for processing the tokens (words)\n",
        "        self.token_emb = Embedding(input_dim=vocab_size,\n",
        "                                   output_dim=embed_dim)\n",
        "        # another embedding for processing the position\n",
        "        self.pos_emb = Embedding(input_dim=maxlen,\n",
        "                                 output_dim=embed_dim)\n",
        "\n",
        "    def call(self, x):\n",
        "        # create a static position measure (input)\n",
        "        maxlen = tf.shape(x)[-1]\n",
        "        positions = tf.range(start=0, limit=maxlen, delta=1)\n",
        "        # positions now goes from 0 to 500 (for IMdB) by 1\n",
        "        positions = self.pos_emb(positions)# embed these positions\n",
        "        x = self.token_emb(x) # embed the tokens\n",
        "        return x + positions # add embeddngs to get final embedding"
      ],
      "metadata": {
        "id": "DfExtGwiYouB"
      },
      "execution_count": null,
      "outputs": []
    },
    {
      "cell_type": "code",
      "source": [
        "from tensorflow.keras.layers import MultiHeadAttention, LayerNormalization\n",
        "from tensorflow.keras.layers import Conv1D, MaxPooling1D, GlobalAveragePooling1D\n",
        "from tensorflow.keras import Sequential\n",
        "from tensorflow.keras.layers import Layer\n",
        "import tensorflow as tf\n",
        "\n",
        "# first, let's replace the original embedding in the xformer\n",
        "# with our custom GloVe embedding\n",
        "\n",
        "class GloveTokenAndPositionEmbedding(Layer):\n",
        "    def __init__(self):\n",
        "        super().__init__()\n",
        "        # create two embeddings\n",
        "        # one for processing the tokens, pretrained (words)\n",
        "        self.token_emb = Embedding(len(word_index) + 1,\n",
        "                            EMBED_SIZE,\n",
        "                            weights=[embedding_matrix],# here is the embedding getting saved\n",
        "                            input_length=MAX_ART_LEN,\n",
        "                            trainable=False)\n",
        "\n",
        "        # another embedding for processing the position\n",
        "        self.pos_emb = Embedding(MAX_ART_LEN,\n",
        "                                 EMBED_SIZE,\n",
        "                                 input_length=MAX_ART_LEN,\n",
        "                                 trainable=True\n",
        "                                )\n",
        "\n",
        "    def call(self, x):\n",
        "        # create a static position measure (input)\n",
        "        maxlen = tf.shape(x)[-1]\n",
        "        positions = tf.range(start=0, limit=maxlen, delta=1)\n",
        "        # positions now goes from 0 to 500 (for IMdB) by 1\n",
        "        positions = self.pos_emb(positions)# embed these positions\n",
        "        x = self.token_emb(x) # embed the tokens\n",
        "        return x + positions # add embeddngs to get final embedding"
      ],
      "metadata": {
        "id": "Yr6gXRU1YqTz"
      },
      "execution_count": null,
      "outputs": []
    },
    {
      "cell_type": "code",
      "source": [
        "num_heads = 4  # Number of attention heads\n",
        "ff_dim = 32  # Hidden layer size in feed forward network inside transformer\n",
        "\n",
        "inputs = Input(shape=(X_train.shape[1],))\n",
        "x = GloveTokenAndPositionEmbedding()(inputs)\n",
        "x = TransformerBlock(EMBED_SIZE, num_heads, ff_dim)(x)\n",
        "\n",
        "x = GlobalAveragePooling1D()(x)\n",
        "x = Dropout(0.2)(x)\n",
        "x = Dense(64, activation='relu')(x)\n",
        "x = Dropout(0.2)(x)\n",
        "preds = Dense(NUM_CLASSES, activation='softmax',\n",
        "              kernel_initializer='glorot_uniform')(x)\n",
        "\n",
        "model_xformer20 = Model(inputs=inputs, outputs=preds)\n",
        "print(model_xformer20.summary())"
      ],
      "metadata": {
        "colab": {
          "base_uri": "https://localhost:8080/"
        },
        "id": "WUHbfgpOZA7c",
        "outputId": "57f46f32-65e3-49cd-f01f-de1b5320bd92"
      },
      "execution_count": null,
      "outputs": [
        {
          "output_type": "stream",
          "name": "stdout",
          "text": [
            "Model: \"model_10\"\n",
            "_________________________________________________________________\n",
            " Layer (type)                Output Shape              Param #   \n",
            "=================================================================\n",
            " input_12 (InputLayer)       [(None, 300)]             0         \n",
            "                                                                 \n",
            " glove_token_and_position_e  (None, 300, 50)           452100    \n",
            " mbedding (GloveTokenAndPos                                      \n",
            " itionEmbedding)                                                 \n",
            "                                                                 \n",
            " transformer_block (Transfo  (None, 300, 50)           44132     \n",
            " rmerBlock)                                                      \n",
            "                                                                 \n",
            " global_average_pooling1d (  (None, 50)                0         \n",
            " GlobalAveragePooling1D)                                         \n",
            "                                                                 \n",
            " dropout_34 (Dropout)        (None, 50)                0         \n",
            "                                                                 \n",
            " dense_22 (Dense)            (None, 64)                3264      \n",
            "                                                                 \n",
            " dropout_35 (Dropout)        (None, 64)                0         \n",
            "                                                                 \n",
            " dense_23 (Dense)            (None, 2)                 130       \n",
            "                                                                 \n",
            "=================================================================\n",
            "Total params: 499626 (1.91 MB)\n",
            "Trainable params: 62526 (244.24 KB)\n",
            "Non-trainable params: 437100 (1.67 MB)\n",
            "_________________________________________________________________\n",
            "None\n"
          ]
        }
      ]
    },
    {
      "cell_type": "code",
      "source": [
        "from keras.metrics import AUC\n",
        "\n",
        "model_xformer20.compile(loss='binary_crossentropy',\n",
        "              optimizer='rmsprop',\n",
        "              metrics=[AUC()])\n",
        "histories3 = []\n",
        "tmp = model_xformer20.fit(X_train, y_train,\n",
        "               validation_data=(X_test, y_test),\n",
        "               epochs=2, batch_size=512)\n",
        "histories3.append(tmp)"
      ],
      "metadata": {
        "colab": {
          "base_uri": "https://localhost:8080/"
        },
        "id": "jUF6LFO9ZIJ8",
        "outputId": "c260310d-b8cb-4703-d588-73240c6bf830"
      },
      "execution_count": null,
      "outputs": [
        {
          "output_type": "stream",
          "name": "stdout",
          "text": [
            "Epoch 1/2\n",
            "9/9 [==============================] - 109s 12s/step - loss: 0.3707 - auc_5: 0.9120 - val_loss: 0.2263 - val_auc_5: 0.9745\n",
            "Epoch 2/2\n",
            "9/9 [==============================] - 92s 10s/step - loss: 0.2431 - auc_5: 0.9631 - val_loss: 0.1907 - val_auc_5: 0.9821\n"
          ]
        }
      ]
    },
    {
      "cell_type": "code",
      "source": [
        "tmp = model_xformer20.fit(X_train, y_train,\n",
        "               validation_data=(X_test, y_test),\n",
        "               epochs=10, batch_size=512)\n",
        "histories3.append(tmp)"
      ],
      "metadata": {
        "colab": {
          "base_uri": "https://localhost:8080/"
        },
        "id": "jVQQVkc1aLI2",
        "outputId": "a2bca0c1-6520-4f8a-bc90-c10b730da9b4"
      },
      "execution_count": null,
      "outputs": [
        {
          "output_type": "stream",
          "name": "stdout",
          "text": [
            "Epoch 1/10\n",
            "9/9 [==============================] - 108s 12s/step - loss: 0.1889 - auc_5: 0.9750 - val_loss: 0.1440 - val_auc_5: 0.9811\n",
            "Epoch 2/10\n",
            "9/9 [==============================] - 93s 11s/step - loss: 0.1637 - auc_5: 0.9781 - val_loss: 0.1334 - val_auc_5: 0.9840\n",
            "Epoch 3/10\n",
            "9/9 [==============================] - 95s 11s/step - loss: 0.1393 - auc_5: 0.9837 - val_loss: 0.1262 - val_auc_5: 0.9843\n",
            "Epoch 4/10\n",
            "9/9 [==============================] - 93s 10s/step - loss: 0.1489 - auc_5: 0.9795 - val_loss: 0.1216 - val_auc_5: 0.9863\n",
            "Epoch 5/10\n",
            "9/9 [==============================] - 93s 10s/step - loss: 0.1345 - auc_5: 0.9834 - val_loss: 0.1557 - val_auc_5: 0.9830\n",
            "Epoch 6/10\n",
            "9/9 [==============================] - 92s 10s/step - loss: 0.1156 - auc_5: 0.9880 - val_loss: 0.1162 - val_auc_5: 0.9878\n",
            "Epoch 7/10\n",
            "9/9 [==============================] - 91s 10s/step - loss: 0.1323 - auc_5: 0.9836 - val_loss: 0.1147 - val_auc_5: 0.9883\n",
            "Epoch 8/10\n",
            "9/9 [==============================] - 94s 11s/step - loss: 0.1122 - auc_5: 0.9874 - val_loss: 0.1692 - val_auc_5: 0.9710\n",
            "Epoch 9/10\n",
            "9/9 [==============================] - 92s 10s/step - loss: 0.1282 - auc_5: 0.9841 - val_loss: 0.1086 - val_auc_5: 0.9873\n",
            "Epoch 10/10\n",
            "9/9 [==============================] - 90s 10s/step - loss: 0.1186 - auc_5: 0.9863 - val_loss: 0.1108 - val_auc_5: 0.9836\n"
          ]
        }
      ]
    },
    {
      "cell_type": "code",
      "source": [
        "from sklearn import metrics as mt\n",
        "from matplotlib import pyplot as plt\n",
        "%matplotlib inline\n",
        "\n",
        "# combine all the history from training together\n",
        "combined = dict()\n",
        "for key in ['auc_5','val_auc_5','loss','val_loss']:\n",
        "    combined[key] = np.hstack([x.history[key] for x in histories3])\n",
        "\n",
        "# summarize history for accuracy\n",
        "plt.figure(figsize=(15,5))\n",
        "plt.subplot(121)\n",
        "plt.plot(combined['auc_5'])\n",
        "plt.plot(combined['val_auc_5'])\n",
        "plt.title('model auc')\n",
        "plt.ylabel('auc')\n",
        "plt.xlabel('epoch')\n",
        "plt.legend(['train', 'test'], loc='upper left')\n",
        "\n",
        "# summarize history for loss\n",
        "plt.subplot(122)\n",
        "plt.plot(combined['loss'])\n",
        "plt.plot(combined['val_loss'])\n",
        "plt.title('model loss')\n",
        "plt.ylabel('loss')\n",
        "plt.xlabel('epoch')\n",
        "plt.legend(['train', 'test'], loc='upper left')\n",
        "plt.show()"
      ],
      "metadata": {
        "colab": {
          "base_uri": "https://localhost:8080/",
          "height": 401
        },
        "id": "RIhHkz-hbLNs",
        "outputId": "9ee86b12-55a1-45ed-d515-fd866c094cf4"
      },
      "execution_count": null,
      "outputs": [
        {
          "output_type": "display_data",
          "data": {
            "text/plain": [
              "<Figure size 1500x500 with 2 Axes>"
            ],
            "image/png": "[encoded data removed]"
          },
          "metadata": {}
        }
      ]
    },
    {
      "cell_type": "code",
      "source": [
        "from sklearn.metrics import roc_auc_score\n",
        "\n",
        "#source: https://scikit-learn.org/stable/modules/generated/sklearn.metrics.roc_auc_score.html\n",
        "\n",
        "# now let's see how well the model performed\n",
        "yhat_proba = model_xformer20.predict(X_test)  # sigmoid output probabilities\n",
        "yhat3 = np.round(yhat_proba.squeeze())  # round to get binary class\n",
        "\n",
        "evals3 = roc_auc_score(y_test, yhat3)  # compute AUC score\n",
        "print(\"AUC Score:\", evals3)"
      ],
      "metadata": {
        "colab": {
          "base_uri": "https://localhost:8080/"
        },
        "id": "7wFtTd3Zhxln",
        "outputId": "26c6fc01-46d2-4797-ab7f-4a75260f4f06"
      },
      "execution_count": null,
      "outputs": [
        {
          "output_type": "stream",
          "name": "stdout",
          "text": [
            "35/35 [==============================] - 7s 198ms/step\n",
            "AUC Score: 0.9237285763274103\n"
          ]
        }
      ]
    },
    {
      "cell_type": "code",
      "source": [
        "num_heads = 4  # Number of attention heads\n",
        "ff_dim = 32  # Hidden layer size in feed forward network inside transformer\n",
        "\n",
        "inputs = Input(shape=(X_train.shape[1],))\n",
        "x = GloveTokenAndPositionEmbedding()(inputs)\n",
        "x = TransformerBlock(EMBED_SIZE, num_heads, ff_dim)(x)\n",
        "\n",
        "x = GlobalAveragePooling1D()(x)\n",
        "x = Dropout(0.2)(x)\n",
        "x = Dense(64, activation='relu')(x)\n",
        "x = Dropout(0.2)(x)\n",
        "preds = Dense(NUM_CLASSES, activation='softmax',\n",
        "              kernel_initializer='glorot_uniform')(x)\n",
        "\n",
        "model_xformer21 = Model(inputs=inputs, outputs=preds)\n",
        "print(model_xformer21.summary())"
      ],
      "metadata": {
        "colab": {
          "base_uri": "https://localhost:8080/"
        },
        "id": "sIfz5cMhiCyB",
        "outputId": "c64f9205-2d68-42f6-b115-a1fcbbfacb25"
      },
      "execution_count": null,
      "outputs": [
        {
          "output_type": "stream",
          "name": "stdout",
          "text": [
            "Model: \"model_11\"\n",
            "_________________________________________________________________\n",
            " Layer (type)                Output Shape              Param #   \n",
            "=================================================================\n",
            " input_13 (InputLayer)       [(None, 300)]             0         \n",
            "                                                                 \n",
            " glove_token_and_position_e  (None, 300, 50)           452100    \n",
            " mbedding_1 (GloveTokenAndP                                      \n",
            " ositionEmbedding)                                               \n",
            "                                                                 \n",
            " transformer_block_1 (Trans  (None, 300, 50)           44132     \n",
            " formerBlock)                                                    \n",
            "                                                                 \n",
            " global_average_pooling1d_1  (None, 50)                0         \n",
            "  (GlobalAveragePooling1D)                                       \n",
            "                                                                 \n",
            " dropout_38 (Dropout)        (None, 50)                0         \n",
            "                                                                 \n",
            " dense_26 (Dense)            (None, 64)                3264      \n",
            "                                                                 \n",
            " dropout_39 (Dropout)        (None, 64)                0         \n",
            "                                                                 \n",
            " dense_27 (Dense)            (None, 2)                 130       \n",
            "                                                                 \n",
            "=================================================================\n",
            "Total params: 499626 (1.91 MB)\n",
            "Trainable params: 62526 (244.24 KB)\n",
            "Non-trainable params: 437100 (1.67 MB)\n",
            "_________________________________________________________________\n",
            "None\n"
          ]
        }
      ]
    },
    {
      "cell_type": "code",
      "source": [
        "from keras.metrics import AUC\n",
        "\n",
        "model_xformer21.compile(loss='binary_crossentropy',\n",
        "              optimizer='adam',\n",
        "              metrics=[AUC()])\n",
        "histories4 = []\n",
        "tmp = model_xformer21.fit(X_train, y_train,\n",
        "               validation_data=(X_test, y_test),\n",
        "               epochs=2, batch_size=512)\n",
        "histories4.append(tmp)"
      ],
      "metadata": {
        "colab": {
          "base_uri": "https://localhost:8080/"
        },
        "id": "Ud6OIVgYifmc",
        "outputId": "881c0875-53e6-48a7-e24d-5fab17dc3b7e"
      },
      "execution_count": null,
      "outputs": [
        {
          "output_type": "stream",
          "name": "stdout",
          "text": [
            "Epoch 1/2\n",
            "9/9 [==============================] - 106s 11s/step - loss: 0.4708 - auc_6: 0.8583 - val_loss: 0.3928 - val_auc_6: 0.9270\n",
            "Epoch 2/2\n",
            "9/9 [==============================] - 89s 10s/step - loss: 0.3867 - auc_6: 0.8983 - val_loss: 0.3303 - val_auc_6: 0.9656\n"
          ]
        }
      ]
    },
    {
      "cell_type": "code",
      "source": [
        "tmp = model_xformer21.fit(X_train, y_train,\n",
        "               validation_data=(X_test, y_test),\n",
        "               epochs=10, batch_size=512)\n",
        "histories4.append(tmp)"
      ],
      "metadata": {
        "colab": {
          "base_uri": "https://localhost:8080/"
        },
        "id": "SmD_oYMfiq48",
        "outputId": "69b9bdc4-8365-46a3-b658-fc7674d42bb8"
      },
      "execution_count": null,
      "outputs": [
        {
          "output_type": "stream",
          "name": "stdout",
          "text": [
            "Epoch 1/10\n",
            "9/9 [==============================] - 92s 10s/step - loss: 0.3039 - auc_6: 0.9539 - val_loss: 0.2185 - val_auc_6: 0.9784\n",
            "Epoch 2/10\n",
            "9/9 [==============================] - 90s 10s/step - loss: 0.1938 - auc_6: 0.9792 - val_loss: 0.1505 - val_auc_6: 0.9803\n",
            "Epoch 3/10\n",
            "9/9 [==============================] - 94s 11s/step - loss: 0.1446 - auc_6: 0.9825 - val_loss: 0.1361 - val_auc_6: 0.9766\n",
            "Epoch 4/10\n",
            "9/9 [==============================] - 92s 10s/step - loss: 0.1268 - auc_6: 0.9835 - val_loss: 0.1204 - val_auc_6: 0.9850\n",
            "Epoch 5/10\n",
            "9/9 [==============================] - 91s 10s/step - loss: 0.1194 - auc_6: 0.9866 - val_loss: 0.1111 - val_auc_6: 0.9887\n",
            "Epoch 6/10\n",
            "9/9 [==============================] - 94s 10s/step - loss: 0.1074 - auc_6: 0.9899 - val_loss: 0.1053 - val_auc_6: 0.9872\n",
            "Epoch 7/10\n",
            "9/9 [==============================] - 90s 10s/step - loss: 0.1017 - auc_6: 0.9882 - val_loss: 0.1093 - val_auc_6: 0.9859\n",
            "Epoch 8/10\n",
            "9/9 [==============================] - 109s 12s/step - loss: 0.0948 - auc_6: 0.9904 - val_loss: 0.0980 - val_auc_6: 0.9891\n",
            "Epoch 9/10\n",
            "9/9 [==============================] - 94s 10s/step - loss: 0.0931 - auc_6: 0.9892 - val_loss: 0.0970 - val_auc_6: 0.9861\n",
            "Epoch 10/10\n",
            "9/9 [==============================] - 90s 10s/step - loss: 0.0989 - auc_6: 0.9886 - val_loss: 0.1114 - val_auc_6: 0.9860\n"
          ]
        }
      ]
    },
    {
      "cell_type": "code",
      "source": [
        "from sklearn import metrics as mt\n",
        "from matplotlib import pyplot as plt\n",
        "%matplotlib inline\n",
        "\n",
        "# combine all the history from training together\n",
        "combined = dict()\n",
        "for key in ['auc_6','val_auc_6','loss','val_loss']:\n",
        "    combined[key] = np.hstack([x.history[key] for x in histories4])\n",
        "\n",
        "# summarize history for accuracy\n",
        "plt.figure(figsize=(15,5))\n",
        "plt.subplot(121)\n",
        "plt.plot(combined['auc_6'])\n",
        "plt.plot(combined['val_auc_6'])\n",
        "plt.title('model auc')\n",
        "plt.ylabel('auc')\n",
        "plt.xlabel('epoch')\n",
        "plt.legend(['train', 'test'], loc='upper left')\n",
        "\n",
        "# summarize history for loss\n",
        "plt.subplot(122)\n",
        "plt.plot(combined['loss'])\n",
        "plt.plot(combined['val_loss'])\n",
        "plt.title('model loss')\n",
        "plt.ylabel('loss')\n",
        "plt.xlabel('epoch')\n",
        "plt.legend(['train', 'test'], loc='upper left')\n",
        "plt.show()"
      ],
      "metadata": {
        "colab": {
          "base_uri": "https://localhost:8080/",
          "height": 401
        },
        "id": "iUx3INfiizAZ",
        "outputId": "fe81cb9a-350c-4ed1-8bc1-5c7d02871f4f"
      },
      "execution_count": null,
      "outputs": [
        {
          "output_type": "display_data",
          "data": {
            "text/plain": [
              "<Figure size 1500x500 with 2 Axes>"
            ],
            "image/png": "[encoded data removed]"
          },
          "metadata": {}
        }
      ]
    },
    {
      "cell_type": "code",
      "source": [
        "from sklearn.metrics import roc_auc_score\n",
        "\n",
        "#source: https://scikit-learn.org/stable/modules/generated/sklearn.metrics.roc_auc_score.html\n",
        "\n",
        "# now let's see how well the model performed\n",
        "yhat_proba = model_xformer21.predict(X_test)  # sigmoid output probabilities\n",
        "yhat4 = np.round(yhat_proba.squeeze())  # round to get binary class\n",
        "\n",
        "evals4 = roc_auc_score(y_test, yhat4)  # compute AUC score\n",
        "print(\"AUC Score:\", evals4)"
      ],
      "metadata": {
        "colab": {
          "base_uri": "https://localhost:8080/"
        },
        "id": "Oug5NxJjmNii",
        "outputId": "f373e024-8deb-4c4f-a5a4-7e6a8e25f2aa"
      },
      "execution_count": null,
      "outputs": [
        {
          "output_type": "stream",
          "name": "stdout",
          "text": [
            "35/35 [==============================] - 9s 245ms/step\n",
            "AUC Score: 0.8907593900245642\n"
          ]
        }
      ]
    },
    {
      "cell_type": "markdown",
      "source": [
        "*Using the best parameters and architecture from the Transformer in the previous step, add a second Multi-headed self attention layer to your network. That is, the input to the second attention layer should be the output sequence of the first attention layer.  Visualize the performance of training and validation sets versus the training iterations, showing that the model converged..*"
      ],
      "metadata": {
        "id": "gJsXtXSpum3_"
      }
    },
    {
      "cell_type": "code",
      "source": [
        "num_heads = 4  # Number of attention heads\n",
        "ff_dim = 32  # Hidden layer size in feed forward network inside transformer\n",
        "\n",
        "inputs = Input(shape=(X_train.shape[1],))\n",
        "x = GloveTokenAndPositionEmbedding()(inputs)\n",
        "x = TransformerBlock(EMBED_SIZE, num_heads, ff_dim)(x)\n",
        "x = TransformerBlock(EMBED_SIZE, num_heads, ff_dim)(x)\n",
        "\n",
        "x = GlobalAveragePooling1D()(x)\n",
        "x = Dropout(0.2)(x)\n",
        "x = Dense(64, activation='relu')(x)\n",
        "x = Dropout(0.2)(x)\n",
        "preds = Dense(NUM_CLASSES, activation='softmax',\n",
        "              kernel_initializer='glorot_uniform')(x)\n",
        "\n",
        "model_xformer21 = Model(inputs=inputs, outputs=preds)\n",
        "print(model_xformer21.summary())"
      ],
      "metadata": {
        "colab": {
          "base_uri": "https://localhost:8080/"
        },
        "id": "6phI9zIpnkc7",
        "outputId": "f840c04b-94b3-46fd-e6a7-4bb5d34c2156"
      },
      "execution_count": null,
      "outputs": [
        {
          "output_type": "stream",
          "name": "stdout",
          "text": [
            "Model: \"model_12\"\n",
            "_________________________________________________________________\n",
            " Layer (type)                Output Shape              Param #   \n",
            "=================================================================\n",
            " input_14 (InputLayer)       [(None, 300)]             0         \n",
            "                                                                 \n",
            " glove_token_and_position_e  (None, 300, 50)           452100    \n",
            " mbedding_2 (GloveTokenAndP                                      \n",
            " ositionEmbedding)                                               \n",
            "                                                                 \n",
            " transformer_block_2 (Trans  (None, 300, 50)           44132     \n",
            " formerBlock)                                                    \n",
            "                                                                 \n",
            " transformer_block_3 (Trans  (None, 300, 50)           44132     \n",
            " formerBlock)                                                    \n",
            "                                                                 \n",
            " global_average_pooling1d_2  (None, 50)                0         \n",
            "  (GlobalAveragePooling1D)                                       \n",
            "                                                                 \n",
            " dropout_44 (Dropout)        (None, 50)                0         \n",
            "                                                                 \n",
            " dense_32 (Dense)            (None, 64)                3264      \n",
            "                                                                 \n",
            " dropout_45 (Dropout)        (None, 64)                0         \n",
            "                                                                 \n",
            " dense_33 (Dense)            (None, 2)                 130       \n",
            "                                                                 \n",
            "=================================================================\n",
            "Total params: 543758 (2.07 MB)\n",
            "Trainable params: 106658 (416.63 KB)\n",
            "Non-trainable params: 437100 (1.67 MB)\n",
            "_________________________________________________________________\n",
            "None\n"
          ]
        }
      ]
    },
    {
      "cell_type": "code",
      "source": [
        "from keras.metrics import AUC\n",
        "\n",
        "model_xformer21.compile(loss='binary_crossentropy',\n",
        "              optimizer='adam',\n",
        "              metrics=[AUC()])\n",
        "histories5 = []\n",
        "tmp = model_xformer21.fit(X_train, y_train,\n",
        "               validation_data=(X_test, y_test),\n",
        "               epochs=2, batch_size=512)\n",
        "histories5.append(tmp)"
      ],
      "metadata": {
        "colab": {
          "base_uri": "https://localhost:8080/"
        },
        "id": "lr6UQlC3oGGN",
        "outputId": "b62ab960-a789-4603-bb8d-716a16754724"
      },
      "execution_count": null,
      "outputs": [
        {
          "output_type": "stream",
          "name": "stdout",
          "text": [
            "Epoch 1/2\n",
            "9/9 [==============================] - 208s 22s/step - loss: 0.4649 - auc_7: 0.8639 - val_loss: 0.4160 - val_auc_7: 0.9415\n",
            "Epoch 2/2\n",
            "9/9 [==============================] - 185s 21s/step - loss: 0.3939 - auc_7: 0.8893 - val_loss: 0.3524 - val_auc_7: 0.9651\n"
          ]
        }
      ]
    },
    {
      "cell_type": "code",
      "source": [
        "tmp = model_xformer21.fit(X_train, y_train,\n",
        "               validation_data=(X_test, y_test),\n",
        "               epochs=10, batch_size=512)\n",
        "histories5.append(tmp)"
      ],
      "metadata": {
        "colab": {
          "base_uri": "https://localhost:8080/"
        },
        "id": "NEGtlVlKoVI6",
        "outputId": "c1ce7574-20c5-4330-d73e-9a8b6d59aa3c"
      },
      "execution_count": null,
      "outputs": [
        {
          "output_type": "stream",
          "name": "stdout",
          "text": [
            "Epoch 1/10\n",
            "9/9 [==============================] - 184s 21s/step - loss: 0.3223 - auc_7: 0.9458 - val_loss: 0.1971 - val_auc_7: 0.9747\n",
            "Epoch 2/10\n",
            "9/9 [==============================] - 184s 21s/step - loss: 0.1897 - auc_7: 0.9770 - val_loss: 0.1682 - val_auc_7: 0.9749\n",
            "Epoch 3/10\n",
            "9/9 [==============================] - 181s 20s/step - loss: 0.1438 - auc_7: 0.9811 - val_loss: 0.1640 - val_auc_7: 0.9738\n",
            "Epoch 4/10\n",
            "9/9 [==============================] - 181s 20s/step - loss: 0.1347 - auc_7: 0.9833 - val_loss: 0.1346 - val_auc_7: 0.9764\n",
            "Epoch 5/10\n",
            "9/9 [==============================] - 182s 20s/step - loss: 0.1166 - auc_7: 0.9870 - val_loss: 0.1180 - val_auc_7: 0.9866\n",
            "Epoch 6/10\n",
            "9/9 [==============================] - 183s 20s/step - loss: 0.1098 - auc_7: 0.9896 - val_loss: 0.1074 - val_auc_7: 0.9841\n",
            "Epoch 7/10\n",
            "9/9 [==============================] - 187s 21s/step - loss: 0.1024 - auc_7: 0.9898 - val_loss: 0.1064 - val_auc_7: 0.9822\n",
            "Epoch 8/10\n",
            "9/9 [==============================] - 243s 27s/step - loss: 0.0967 - auc_7: 0.9892 - val_loss: 0.1050 - val_auc_7: 0.9836\n",
            "Epoch 9/10\n",
            "9/9 [==============================] - 194s 21s/step - loss: 0.0968 - auc_7: 0.9893 - val_loss: 0.1182 - val_auc_7: 0.9832\n",
            "Epoch 10/10\n",
            "9/9 [==============================] - 186s 21s/step - loss: 0.0975 - auc_7: 0.9890 - val_loss: 0.0947 - val_auc_7: 0.9874\n"
          ]
        }
      ]
    },
    {
      "cell_type": "code",
      "source": [
        "from sklearn import metrics as mt\n",
        "from matplotlib import pyplot as plt\n",
        "%matplotlib inline\n",
        "\n",
        "# combine all the history from training together\n",
        "combined = dict()\n",
        "for key in ['auc_7','val_auc_7','loss','val_loss']:\n",
        "    combined[key] = np.hstack([x.history[key] for x in histories5])\n",
        "\n",
        "# summarize history for accuracy\n",
        "plt.figure(figsize=(15,5))\n",
        "plt.subplot(121)\n",
        "plt.plot(combined['auc_7'])\n",
        "plt.plot(combined['val_auc_7'])\n",
        "plt.title('model auc')\n",
        "plt.ylabel('auc')\n",
        "plt.xlabel('epoch')\n",
        "plt.legend(['train', 'test'], loc='upper left')\n",
        "\n",
        "# summarize history for loss\n",
        "plt.subplot(122)\n",
        "plt.plot(combined['loss'])\n",
        "plt.plot(combined['val_loss'])\n",
        "plt.title('model loss')\n",
        "plt.ylabel('loss')\n",
        "plt.xlabel('epoch')\n",
        "plt.legend(['train', 'test'], loc='upper left')\n",
        "plt.show()"
      ],
      "metadata": {
        "colab": {
          "base_uri": "https://localhost:8080/",
          "height": 401
        },
        "id": "PSM3qBT2ofPt",
        "outputId": "73468d25-c102-4999-a2c5-8f738bb72b1c"
      },
      "execution_count": null,
      "outputs": [
        {
          "output_type": "display_data",
          "data": {
            "text/plain": [
              "<Figure size 1500x500 with 2 Axes>"
            ],
            "image/png": "[encoded data removed]"
          },
          "metadata": {}
        }
      ]
    },
    {
      "cell_type": "code",
      "source": [
        "from sklearn.metrics import roc_auc_score\n",
        "\n",
        "#source: https://scikit-learn.org/stable/modules/generated/sklearn.metrics.roc_auc_score.html\n",
        "\n",
        "# now let's see how well the model performed\n",
        "yhat_proba = model_xformer21.predict(X_test)  # sigmoid output probabilities\n",
        "yhat5 = np.round(yhat_proba.squeeze())  # round to get binary class\n",
        "\n",
        "evals5 = roc_auc_score(y_test, yhat5)  # compute AUC score\n",
        "print(\"AUC Score:\", evals5)"
      ],
      "metadata": {
        "colab": {
          "base_uri": "https://localhost:8080/"
        },
        "id": "uEwd_nToojfF",
        "outputId": "edd47cdc-d0a5-4abc-a121-99b3b706784a"
      },
      "execution_count": null,
      "outputs": [
        {
          "output_type": "stream",
          "name": "stdout",
          "text": [
            "35/35 [==============================] - 16s 453ms/step\n",
            "AUC Score: 0.913727946476685\n"
          ]
        }
      ]
    },
    {
      "cell_type": "markdown",
      "source": [
        "*Use the method of train/test splitting and evaluation criteria that you argued for at the beginning of the lab. Visualize the results of all the models you trained.  Use proper statistical comparison techniques to determine which method(s) is (are) superior.*"
      ],
      "metadata": {
        "id": "2BdmbQdGune9"
      }
    },
    {
      "cell_type": "markdown",
      "source": [
        "Throughout the performance of each model, we created an AUC Score, and stored the score in variables evals1, evals2, and so on. We then decided that the comparison of these scores should give us a good and accurate idea of which model gives us the greatest AUC Score, and therefore the most superior method. Our findings are as follows:"
      ],
      "metadata": {
        "id": "eezhdh2Quq4u"
      }
    },
    {
      "cell_type": "code",
      "source": [
        "print('AUC Score 1, CNN (RMSProp):', evals1)\n",
        "print('AUC Score for Model 2, CNN (AdaM):', evals2)\n",
        "print('AUC Score for Model 3, Transformer (RMSProp):', evals3)\n",
        "print('AUC Score for Model 4, Transformer (AdaM):', evals4)\n",
        "print('AUC Score for Model 5, Transformer (Second Multi-headed Self Attention Layer):', evals5)"
      ],
      "metadata": {
        "colab": {
          "base_uri": "https://localhost:8080/"
        },
        "id": "z37shGiLvHF8",
        "outputId": "3cc77823-ac79-470f-a6c6-e4ff998484ec"
      },
      "execution_count": null,
      "outputs": [
        {
          "output_type": "stream",
          "name": "stdout",
          "text": [
            "AUC Score 1, CNN (RMSProp): 0.9848223471037365\n",
            "AUC Score for Model 2, CNN (AdaM): 0.9322980453632489\n",
            "AUC Score for Model 3, Transformer (RMSProp): 0.9237285763274103\n",
            "AUC Score for Model 4, Transformer (AdaM): 0.8907593900245642\n",
            "AUC Score for Model 5, Transformer (Second Multi-headed Self Attention Layer): 0.913727946476685\n"
          ]
        }
      ]
    },
    {
      "cell_type": "markdown",
      "source": [
        "Surprisingly, amongst the 5 different methods we used to evaluate our algorithm, the first evaluation yielded the highest AUC Score of 98.48%. The second highest AUC Score was in our second evaluation, yielding an AUC Score of 93.23%. These results statistically show us that the CNN preformed better than the Transformer did on all levels. Further, the CNN that used RMSProp had the highest AUC Score. Therefor, the methods that are most superior are those that use a Convolutional Neural Network, and specifically those that use RMSProp as the optimizer."
      ],
      "metadata": {
        "id": "Wa8RFS3IxdUr"
      }
    },
    {
      "cell_type": "markdown",
      "source": [
        "*Exceptional Work*"
      ],
      "metadata": {
        "id": "-dVq893OyWjw"
      }
    },
    {
      "cell_type": "markdown",
      "source": [
        "Since the most accurate AUC Score was when using a Convoluted Neural Network with the RMSProp optimizer, we decided to do extra analyses to determine if we could get an even greater AUC Score by using a different optimizer. We decided that we will still use a CNN, but for our optimizer we are going to use Adagrad. The reason that we are choosing Adagrad is because its learning rate changes for each parameter, and because it should result in fewer losses over more iterations.\n",
        "\n",
        "Source: https://towardsdatascience.com/optimizers-for-training-neural-network-59450d71caf6"
      ],
      "metadata": {
        "id": "T1wPcquLyZo0"
      }
    },
    {
      "cell_type": "code",
      "source": [
        "from tensorflow.keras.models import Model\n",
        "from tensorflow.keras.layers import Conv1D, MaxPooling1D, Flatten, Dense\n",
        "from tensorflow.keras.layers import Dense, Input, Dropout\n",
        "\n",
        "NUM_CLASSES = 2\n",
        "\n",
        "sequence_input = Input(shape=(MAX_ART_LEN,), dtype='int32')\n",
        "# starting size: 300\n",
        "embedded_sequences = embedding_layer(sequence_input) # from previous embedding\n",
        "x = Conv1D(128, 5, activation='relu',\n",
        "           kernel_initializer='he_uniform')(embedded_sequences)\n",
        "\n",
        "# after conv, size becomes: 300-4=296\n",
        "x = MaxPooling1D(5)(x) # after max pool, 296/5 = 59\n",
        "x = Dropout(0.2)(x)\n",
        "x = Conv1D(128, 5, activation='relu',\n",
        "           kernel_initializer='he_uniform')(x)\n",
        "\n",
        "# new size is 55\n",
        "x = MaxPooling1D(5)(x) # after max pool, size is 55/5 = 11\n",
        "x = Dropout(0.2)(x)\n",
        "x = Conv1D(128, 5, activation='relu',\n",
        "           kernel_initializer='he_uniform')(x)\n",
        "\n",
        "# after convolution, size becomes 7 elements long\n",
        "x = MaxPooling1D(7)(x) # this is the size to globally flatten\n",
        "# flattened vector max pools across each of the 7 elements\n",
        "# so vectors is now 128 dimensions (same as num output filters)\n",
        "x = Flatten()(x)\n",
        "x = Dropout(0.2)(x)\n",
        "x = Dense(128, activation='relu',\n",
        "          kernel_initializer='he_uniform')(x)\n",
        "\n",
        "preds = Dense(NUM_CLASSES, activation='softmax',\n",
        "              kernel_initializer='glorot_uniform')(x)\n",
        "\n",
        "model3 = Model(sequence_input, preds)\n",
        "\n",
        "# if representing as OHE, use categorical_crossentropy\n",
        "# if representing the class as an integer, use sparse_categorical_crossentropy\n",
        "model3.compile(loss='binary_crossentropy',\n",
        "              optimizer='adagrad',\n",
        "              metrics=[AUC()])\n",
        "\n",
        "print(model.summary())"
      ],
      "metadata": {
        "colab": {
          "base_uri": "https://localhost:8080/"
        },
        "id": "rMVW1pOxz23g",
        "outputId": "716f9ab9-faac-416a-a366-e6107d3deb76"
      },
      "execution_count": null,
      "outputs": [
        {
          "output_type": "stream",
          "name": "stdout",
          "text": [
            "Model: \"model_8\"\n",
            "_________________________________________________________________\n",
            " Layer (type)                Output Shape              Param #   \n",
            "=================================================================\n",
            " input_10 (InputLayer)       [(None, 300)]             0         \n",
            "                                                                 \n",
            " embedding_5 (Embedding)     (None, 300, 50)           437100    \n",
            "                                                                 \n",
            " conv1d_27 (Conv1D)          (None, 296, 128)          32128     \n",
            "                                                                 \n",
            " max_pooling1d_27 (MaxPooli  (None, 59, 128)           0         \n",
            " ng1D)                                                           \n",
            "                                                                 \n",
            " dropout_26 (Dropout)        (None, 59, 128)           0         \n",
            "                                                                 \n",
            " conv1d_28 (Conv1D)          (None, 55, 128)           82048     \n",
            "                                                                 \n",
            " max_pooling1d_28 (MaxPooli  (None, 11, 128)           0         \n",
            " ng1D)                                                           \n",
            "                                                                 \n",
            " dropout_27 (Dropout)        (None, 11, 128)           0         \n",
            "                                                                 \n",
            " conv1d_29 (Conv1D)          (None, 7, 128)            82048     \n",
            "                                                                 \n",
            " max_pooling1d_29 (MaxPooli  (None, 1, 128)            0         \n",
            " ng1D)                                                           \n",
            "                                                                 \n",
            " flatten_8 (Flatten)         (None, 128)               0         \n",
            "                                                                 \n",
            " dropout_28 (Dropout)        (None, 128)               0         \n",
            "                                                                 \n",
            " dense_16 (Dense)            (None, 128)               16512     \n",
            "                                                                 \n",
            " dense_17 (Dense)            (None, 2)                 258       \n",
            "                                                                 \n",
            "=================================================================\n",
            "Total params: 650094 (2.48 MB)\n",
            "Trainable params: 212994 (832.01 KB)\n",
            "Non-trainable params: 437100 (1.67 MB)\n",
            "_________________________________________________________________\n",
            "None\n"
          ]
        }
      ]
    },
    {
      "cell_type": "code",
      "source": [
        "histories6 = []\n",
        "tmp = model3.fit(X_train, y_train, validation_data=(X_test, y_test),\n",
        "          epochs=2, batch_size=512)\n",
        "histories6.append(tmp)"
      ],
      "metadata": {
        "colab": {
          "base_uri": "https://localhost:8080/"
        },
        "id": "YuNBOFB_0hY7",
        "outputId": "fdb9a5a9-262c-44f7-ccd2-ac8ab38ca83b"
      },
      "execution_count": null,
      "outputs": [
        {
          "output_type": "stream",
          "name": "stdout",
          "text": [
            "Epoch 1/2\n",
            "9/9 [==============================] - 11s 1s/step - loss: 0.5875 - auc_9: 0.8388 - val_loss: 0.5371 - val_auc_9: 0.8629\n",
            "Epoch 2/2\n",
            "9/9 [==============================] - 8s 857ms/step - loss: 0.5529 - auc_9: 0.8359 - val_loss: 0.5120 - val_auc_9: 0.8483\n"
          ]
        }
      ]
    },
    {
      "cell_type": "code",
      "source": [
        "histories6 = []\n",
        "tmp = model3.fit(X_train, y_train, validation_data=(X_test, y_test),\n",
        "          epochs=10, batch_size=512)\n",
        "histories6.append(tmp)"
      ],
      "metadata": {
        "colab": {
          "base_uri": "https://localhost:8080/"
        },
        "id": "zX78PXuoyYqV",
        "outputId": "47274c1a-66d7-4a80-bba8-0bb4a74f340c"
      },
      "execution_count": null,
      "outputs": [
        {
          "output_type": "stream",
          "name": "stdout",
          "text": [
            "Epoch 1/10\n",
            "9/9 [==============================] - 15s 2s/step - loss: 0.5091 - auc_9: 0.8259 - val_loss: 0.4721 - val_auc_9: 0.8456\n",
            "Epoch 2/10\n",
            "9/9 [==============================] - 11s 1s/step - loss: 0.4988 - auc_9: 0.8306 - val_loss: 0.4633 - val_auc_9: 0.8515\n",
            "Epoch 3/10\n",
            "9/9 [==============================] - 9s 1s/step - loss: 0.4871 - auc_9: 0.8347 - val_loss: 0.4554 - val_auc_9: 0.8586\n",
            "Epoch 4/10\n",
            "9/9 [==============================] - 14s 2s/step - loss: 0.4772 - auc_9: 0.8423 - val_loss: 0.4479 - val_auc_9: 0.8668\n",
            "Epoch 5/10\n",
            "9/9 [==============================] - 19s 2s/step - loss: 0.4730 - auc_9: 0.8439 - val_loss: 0.4409 - val_auc_9: 0.8741\n",
            "Epoch 6/10\n",
            "9/9 [==============================] - 10s 1s/step - loss: 0.4660 - auc_9: 0.8482 - val_loss: 0.4341 - val_auc_9: 0.8811\n",
            "Epoch 7/10\n",
            "9/9 [==============================] - 8s 865ms/step - loss: 0.4633 - auc_9: 0.8481 - val_loss: 0.4277 - val_auc_9: 0.8894\n",
            "Epoch 8/10\n",
            "9/9 [==============================] - 9s 1s/step - loss: 0.4507 - auc_9: 0.8589 - val_loss: 0.4215 - val_auc_9: 0.8976\n",
            "Epoch 9/10\n",
            "9/9 [==============================] - 9s 1s/step - loss: 0.4496 - auc_9: 0.8591 - val_loss: 0.4154 - val_auc_9: 0.9051\n",
            "Epoch 10/10\n",
            "9/9 [==============================] - 8s 868ms/step - loss: 0.4416 - auc_9: 0.8668 - val_loss: 0.4092 - val_auc_9: 0.9122\n"
          ]
        }
      ]
    },
    {
      "cell_type": "code",
      "source": [
        "from sklearn import metrics as mt\n",
        "from matplotlib import pyplot as plt\n",
        "%matplotlib inline\n",
        "\n",
        "# combine all the history from training together\n",
        "combined = dict()\n",
        "for key in ['auc_9','val_auc_9','loss','val_loss']:\n",
        "    combined[key] = np.hstack([x.history[key] for x in histories6])\n",
        "\n",
        "# summarize history for accuracy\n",
        "plt.figure(figsize=(15,5))\n",
        "plt.subplot(121)\n",
        "plt.plot(combined['auc_9'])\n",
        "plt.plot(combined['val_auc_9'])\n",
        "plt.title('model auc')\n",
        "plt.ylabel('auc')\n",
        "plt.xlabel('epoch')\n",
        "plt.legend(['train', 'test'], loc='upper left')\n",
        "\n",
        "# summarize history for loss\n",
        "plt.subplot(122)\n",
        "plt.plot(combined['loss'])\n",
        "plt.plot(combined['val_loss'])\n",
        "plt.title('model loss')\n",
        "plt.ylabel('loss')\n",
        "plt.xlabel('epoch')\n",
        "plt.legend(['train', 'test'], loc='upper left')\n",
        "plt.show()"
      ],
      "metadata": {
        "colab": {
          "base_uri": "https://localhost:8080/",
          "height": 401
        },
        "id": "qvpXzprz1GsC",
        "outputId": "47148711-8d0d-4c09-8427-702a197a79f2"
      },
      "execution_count": null,
      "outputs": [
        {
          "output_type": "display_data",
          "data": {
            "text/plain": [
              "<Figure size 1500x500 with 2 Axes>"
            ],
            "image/png": "[encoded data removed]"
          },
          "metadata": {}
        }
      ]
    },
    {
      "cell_type": "code",
      "source": [
        "from sklearn.metrics import roc_auc_score\n",
        "\n",
        "#source: https://scikit-learn.org/stable/modules/generated/sklearn.metrics.roc_auc_score.html\n",
        "\n",
        "# now let's see how well the model performed\n",
        "yhat_proba = model3.predict(X_test)  # sigmoid output probabilities\n",
        "yhat6 = np.round(yhat_proba.squeeze())  # round to get binary class\n",
        "\n",
        "evals6 = roc_auc_score(y_test, yhat6)  # compute AUC score\n",
        "print(\"AUC Score:\", evals6)"
      ],
      "metadata": {
        "colab": {
          "base_uri": "https://localhost:8080/"
        },
        "id": "tGbZP73k1Ppr",
        "outputId": "68b181c0-6c6d-40bd-fe37-8632db280c41"
      },
      "execution_count": null,
      "outputs": [
        {
          "output_type": "stream",
          "name": "stdout",
          "text": [
            "35/35 [==============================] - 1s 18ms/step\n",
            "AUC Score: 0.5\n"
          ]
        }
      ]
    },
    {
      "cell_type": "markdown",
      "source": [
        "Unfortunately using Adagrad did not improve any results from what we had previously seen when using optimizers like Adam or RMSProp. Having an AUC Score of 50% is not ideal, especially considering that our previous AUC scores were high. A reason that Adragrad might have preformed so poory is due to the fact that the learning rate decays more aggressively than other optimizers (source: https://hyperskill.org/learn/step/35544). That being said, the results were interesting as we saw a more steady slope in relation to testing and training of our dataset. The results were not what we intended on finding, but do show further proof that a CNN using RMSProp returns a better AUC score than other methods and optimizers."
      ],
      "metadata": {
        "id": "aG5GTSTS1vIu"
      }
    }
  ]
}